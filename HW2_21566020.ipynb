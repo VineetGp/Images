{
  "nbformat": 4,
  "nbformat_minor": 0,
  "metadata": {
    "colab": {
      "name": "HW2_21566020.ipynb",
      "provenance": [],
      "collapsed_sections": [],
      "include_colab_link": true
    },
    "kernelspec": {
      "name": "python3",
      "display_name": "Python 3"
    },
    "language_info": {
      "name": "python"
    },
    "widgets": {
      "application/vnd.jupyter.widget-state+json": {
        "87bb06219bd74c6783825ceb48044227": {
          "model_module": "@jupyter-widgets/controls",
          "model_name": "HBoxModel",
          "model_module_version": "1.5.0",
          "state": {
            "_view_name": "HBoxView",
            "_dom_classes": [],
            "_model_name": "HBoxModel",
            "_view_module": "@jupyter-widgets/controls",
            "_model_module_version": "1.5.0",
            "_view_count": null,
            "_view_module_version": "1.5.0",
            "box_style": "",
            "layout": "IPY_MODEL_ff767c36e02c443dbee6e82871f14e70",
            "_model_module": "@jupyter-widgets/controls",
            "children": [
              "IPY_MODEL_2f459b2b399d4d8db90956bc4f90b60f",
              "IPY_MODEL_ff0314b682434fe8b29cd72877749746",
              "IPY_MODEL_353fe6bfc93b41e5a18c3dd423d3bacb"
            ]
          }
        },
        "ff767c36e02c443dbee6e82871f14e70": {
          "model_module": "@jupyter-widgets/base",
          "model_name": "LayoutModel",
          "model_module_version": "1.2.0",
          "state": {
            "_view_name": "LayoutView",
            "grid_template_rows": null,
            "right": null,
            "justify_content": null,
            "_view_module": "@jupyter-widgets/base",
            "overflow": null,
            "_model_module_version": "1.2.0",
            "_view_count": null,
            "flex_flow": null,
            "width": null,
            "min_width": null,
            "border": null,
            "align_items": null,
            "bottom": null,
            "_model_module": "@jupyter-widgets/base",
            "top": null,
            "grid_column": null,
            "overflow_y": null,
            "overflow_x": null,
            "grid_auto_flow": null,
            "grid_area": null,
            "grid_template_columns": null,
            "flex": null,
            "_model_name": "LayoutModel",
            "justify_items": null,
            "grid_row": null,
            "max_height": null,
            "align_content": null,
            "visibility": null,
            "align_self": null,
            "height": null,
            "min_height": null,
            "padding": null,
            "grid_auto_rows": null,
            "grid_gap": null,
            "max_width": null,
            "order": null,
            "_view_module_version": "1.2.0",
            "grid_template_areas": null,
            "object_position": null,
            "object_fit": null,
            "grid_auto_columns": null,
            "margin": null,
            "display": null,
            "left": null
          }
        },
        "2f459b2b399d4d8db90956bc4f90b60f": {
          "model_module": "@jupyter-widgets/controls",
          "model_name": "HTMLModel",
          "model_module_version": "1.5.0",
          "state": {
            "_view_name": "HTMLView",
            "style": "IPY_MODEL_a8bb5c5236c84a87bd265a4469c54bdc",
            "_dom_classes": [],
            "description": "",
            "_model_name": "HTMLModel",
            "placeholder": "​",
            "_view_module": "@jupyter-widgets/controls",
            "_model_module_version": "1.5.0",
            "value": "100%",
            "_view_count": null,
            "_view_module_version": "1.5.0",
            "description_tooltip": null,
            "_model_module": "@jupyter-widgets/controls",
            "layout": "IPY_MODEL_06b668b6cc394a9f90de8f476133602f"
          }
        },
        "ff0314b682434fe8b29cd72877749746": {
          "model_module": "@jupyter-widgets/controls",
          "model_name": "FloatProgressModel",
          "model_module_version": "1.5.0",
          "state": {
            "_view_name": "ProgressView",
            "style": "IPY_MODEL_01788881d9d644e68785d332b3ea8e06",
            "_dom_classes": [],
            "description": "",
            "_model_name": "FloatProgressModel",
            "bar_style": "success",
            "max": 553433881,
            "_view_module": "@jupyter-widgets/controls",
            "_model_module_version": "1.5.0",
            "value": 553433881,
            "_view_count": null,
            "_view_module_version": "1.5.0",
            "orientation": "horizontal",
            "min": 0,
            "description_tooltip": null,
            "_model_module": "@jupyter-widgets/controls",
            "layout": "IPY_MODEL_a0faa584b980409ca30f86abac894ffd"
          }
        },
        "353fe6bfc93b41e5a18c3dd423d3bacb": {
          "model_module": "@jupyter-widgets/controls",
          "model_name": "HTMLModel",
          "model_module_version": "1.5.0",
          "state": {
            "_view_name": "HTMLView",
            "style": "IPY_MODEL_6a49882d8cd343528edbb221a8c2debe",
            "_dom_classes": [],
            "description": "",
            "_model_name": "HTMLModel",
            "placeholder": "​",
            "_view_module": "@jupyter-widgets/controls",
            "_model_module_version": "1.5.0",
            "value": " 528M/528M [00:04&lt;00:00, 146MB/s]",
            "_view_count": null,
            "_view_module_version": "1.5.0",
            "description_tooltip": null,
            "_model_module": "@jupyter-widgets/controls",
            "layout": "IPY_MODEL_18147da18d0d4e13ab69a5549c702422"
          }
        },
        "a8bb5c5236c84a87bd265a4469c54bdc": {
          "model_module": "@jupyter-widgets/controls",
          "model_name": "DescriptionStyleModel",
          "model_module_version": "1.5.0",
          "state": {
            "_view_name": "StyleView",
            "_model_name": "DescriptionStyleModel",
            "description_width": "",
            "_view_module": "@jupyter-widgets/base",
            "_model_module_version": "1.5.0",
            "_view_count": null,
            "_view_module_version": "1.2.0",
            "_model_module": "@jupyter-widgets/controls"
          }
        },
        "06b668b6cc394a9f90de8f476133602f": {
          "model_module": "@jupyter-widgets/base",
          "model_name": "LayoutModel",
          "model_module_version": "1.2.0",
          "state": {
            "_view_name": "LayoutView",
            "grid_template_rows": null,
            "right": null,
            "justify_content": null,
            "_view_module": "@jupyter-widgets/base",
            "overflow": null,
            "_model_module_version": "1.2.0",
            "_view_count": null,
            "flex_flow": null,
            "width": null,
            "min_width": null,
            "border": null,
            "align_items": null,
            "bottom": null,
            "_model_module": "@jupyter-widgets/base",
            "top": null,
            "grid_column": null,
            "overflow_y": null,
            "overflow_x": null,
            "grid_auto_flow": null,
            "grid_area": null,
            "grid_template_columns": null,
            "flex": null,
            "_model_name": "LayoutModel",
            "justify_items": null,
            "grid_row": null,
            "max_height": null,
            "align_content": null,
            "visibility": null,
            "align_self": null,
            "height": null,
            "min_height": null,
            "padding": null,
            "grid_auto_rows": null,
            "grid_gap": null,
            "max_width": null,
            "order": null,
            "_view_module_version": "1.2.0",
            "grid_template_areas": null,
            "object_position": null,
            "object_fit": null,
            "grid_auto_columns": null,
            "margin": null,
            "display": null,
            "left": null
          }
        },
        "01788881d9d644e68785d332b3ea8e06": {
          "model_module": "@jupyter-widgets/controls",
          "model_name": "ProgressStyleModel",
          "model_module_version": "1.5.0",
          "state": {
            "_view_name": "StyleView",
            "_model_name": "ProgressStyleModel",
            "description_width": "",
            "_view_module": "@jupyter-widgets/base",
            "_model_module_version": "1.5.0",
            "_view_count": null,
            "_view_module_version": "1.2.0",
            "bar_color": null,
            "_model_module": "@jupyter-widgets/controls"
          }
        },
        "a0faa584b980409ca30f86abac894ffd": {
          "model_module": "@jupyter-widgets/base",
          "model_name": "LayoutModel",
          "model_module_version": "1.2.0",
          "state": {
            "_view_name": "LayoutView",
            "grid_template_rows": null,
            "right": null,
            "justify_content": null,
            "_view_module": "@jupyter-widgets/base",
            "overflow": null,
            "_model_module_version": "1.2.0",
            "_view_count": null,
            "flex_flow": null,
            "width": null,
            "min_width": null,
            "border": null,
            "align_items": null,
            "bottom": null,
            "_model_module": "@jupyter-widgets/base",
            "top": null,
            "grid_column": null,
            "overflow_y": null,
            "overflow_x": null,
            "grid_auto_flow": null,
            "grid_area": null,
            "grid_template_columns": null,
            "flex": null,
            "_model_name": "LayoutModel",
            "justify_items": null,
            "grid_row": null,
            "max_height": null,
            "align_content": null,
            "visibility": null,
            "align_self": null,
            "height": null,
            "min_height": null,
            "padding": null,
            "grid_auto_rows": null,
            "grid_gap": null,
            "max_width": null,
            "order": null,
            "_view_module_version": "1.2.0",
            "grid_template_areas": null,
            "object_position": null,
            "object_fit": null,
            "grid_auto_columns": null,
            "margin": null,
            "display": null,
            "left": null
          }
        },
        "6a49882d8cd343528edbb221a8c2debe": {
          "model_module": "@jupyter-widgets/controls",
          "model_name": "DescriptionStyleModel",
          "model_module_version": "1.5.0",
          "state": {
            "_view_name": "StyleView",
            "_model_name": "DescriptionStyleModel",
            "description_width": "",
            "_view_module": "@jupyter-widgets/base",
            "_model_module_version": "1.5.0",
            "_view_count": null,
            "_view_module_version": "1.2.0",
            "_model_module": "@jupyter-widgets/controls"
          }
        },
        "18147da18d0d4e13ab69a5549c702422": {
          "model_module": "@jupyter-widgets/base",
          "model_name": "LayoutModel",
          "model_module_version": "1.2.0",
          "state": {
            "_view_name": "LayoutView",
            "grid_template_rows": null,
            "right": null,
            "justify_content": null,
            "_view_module": "@jupyter-widgets/base",
            "overflow": null,
            "_model_module_version": "1.2.0",
            "_view_count": null,
            "flex_flow": null,
            "width": null,
            "min_width": null,
            "border": null,
            "align_items": null,
            "bottom": null,
            "_model_module": "@jupyter-widgets/base",
            "top": null,
            "grid_column": null,
            "overflow_y": null,
            "overflow_x": null,
            "grid_auto_flow": null,
            "grid_area": null,
            "grid_template_columns": null,
            "flex": null,
            "_model_name": "LayoutModel",
            "justify_items": null,
            "grid_row": null,
            "max_height": null,
            "align_content": null,
            "visibility": null,
            "align_self": null,
            "height": null,
            "min_height": null,
            "padding": null,
            "grid_auto_rows": null,
            "grid_gap": null,
            "max_width": null,
            "order": null,
            "_view_module_version": "1.2.0",
            "grid_template_areas": null,
            "object_position": null,
            "object_fit": null,
            "grid_auto_columns": null,
            "margin": null,
            "display": null,
            "left": null
          }
        },
        "ac7dd484eabd4da5b5b9755ed01805d4": {
          "model_module": "@jupyter-widgets/controls",
          "model_name": "HBoxModel",
          "model_module_version": "1.5.0",
          "state": {
            "_view_name": "HBoxView",
            "_dom_classes": [],
            "_model_name": "HBoxModel",
            "_view_module": "@jupyter-widgets/controls",
            "_model_module_version": "1.5.0",
            "_view_count": null,
            "_view_module_version": "1.5.0",
            "box_style": "",
            "layout": "IPY_MODEL_b1004002de364983b225bd27323768b5",
            "_model_module": "@jupyter-widgets/controls",
            "children": [
              "IPY_MODEL_fe5601ea553d486696d375b1acdf8928",
              "IPY_MODEL_eceeedbc51744841bcb42f45748b1584",
              "IPY_MODEL_0c1fa04af5144e59b5c3bb6987249971"
            ]
          }
        },
        "b1004002de364983b225bd27323768b5": {
          "model_module": "@jupyter-widgets/base",
          "model_name": "LayoutModel",
          "model_module_version": "1.2.0",
          "state": {
            "_view_name": "LayoutView",
            "grid_template_rows": null,
            "right": null,
            "justify_content": null,
            "_view_module": "@jupyter-widgets/base",
            "overflow": null,
            "_model_module_version": "1.2.0",
            "_view_count": null,
            "flex_flow": null,
            "width": null,
            "min_width": null,
            "border": null,
            "align_items": null,
            "bottom": null,
            "_model_module": "@jupyter-widgets/base",
            "top": null,
            "grid_column": null,
            "overflow_y": null,
            "overflow_x": null,
            "grid_auto_flow": null,
            "grid_area": null,
            "grid_template_columns": null,
            "flex": null,
            "_model_name": "LayoutModel",
            "justify_items": null,
            "grid_row": null,
            "max_height": null,
            "align_content": null,
            "visibility": null,
            "align_self": null,
            "height": null,
            "min_height": null,
            "padding": null,
            "grid_auto_rows": null,
            "grid_gap": null,
            "max_width": null,
            "order": null,
            "_view_module_version": "1.2.0",
            "grid_template_areas": null,
            "object_position": null,
            "object_fit": null,
            "grid_auto_columns": null,
            "margin": null,
            "display": null,
            "left": null
          }
        },
        "fe5601ea553d486696d375b1acdf8928": {
          "model_module": "@jupyter-widgets/controls",
          "model_name": "HTMLModel",
          "model_module_version": "1.5.0",
          "state": {
            "_view_name": "HTMLView",
            "style": "IPY_MODEL_7c2dd68603f9409bb5dcb86fe9b7e38a",
            "_dom_classes": [],
            "description": "",
            "_model_name": "HTMLModel",
            "placeholder": "​",
            "_view_module": "@jupyter-widgets/controls",
            "_model_module_version": "1.5.0",
            "value": "100%",
            "_view_count": null,
            "_view_module_version": "1.5.0",
            "description_tooltip": null,
            "_model_module": "@jupyter-widgets/controls",
            "layout": "IPY_MODEL_cbb1d96d1b234d77ab9f67caa6e6c938"
          }
        },
        "eceeedbc51744841bcb42f45748b1584": {
          "model_module": "@jupyter-widgets/controls",
          "model_name": "FloatProgressModel",
          "model_module_version": "1.5.0",
          "state": {
            "_view_name": "ProgressView",
            "style": "IPY_MODEL_a78f36de08ad4593a13416823b4c6719",
            "_dom_classes": [],
            "description": "",
            "_model_name": "FloatProgressModel",
            "bar_style": "success",
            "max": 46830571,
            "_view_module": "@jupyter-widgets/controls",
            "_model_module_version": "1.5.0",
            "value": 46830571,
            "_view_count": null,
            "_view_module_version": "1.5.0",
            "orientation": "horizontal",
            "min": 0,
            "description_tooltip": null,
            "_model_module": "@jupyter-widgets/controls",
            "layout": "IPY_MODEL_3e53780201d14e27b425300fb35469d7"
          }
        },
        "0c1fa04af5144e59b5c3bb6987249971": {
          "model_module": "@jupyter-widgets/controls",
          "model_name": "HTMLModel",
          "model_module_version": "1.5.0",
          "state": {
            "_view_name": "HTMLView",
            "style": "IPY_MODEL_c626b2981e5b49fda60f47c37dbb011c",
            "_dom_classes": [],
            "description": "",
            "_model_name": "HTMLModel",
            "placeholder": "​",
            "_view_module": "@jupyter-widgets/controls",
            "_model_module_version": "1.5.0",
            "value": " 44.7M/44.7M [00:00&lt;00:00, 123MB/s]",
            "_view_count": null,
            "_view_module_version": "1.5.0",
            "description_tooltip": null,
            "_model_module": "@jupyter-widgets/controls",
            "layout": "IPY_MODEL_0b91026ff814463ebab8f0cd45f90b01"
          }
        },
        "7c2dd68603f9409bb5dcb86fe9b7e38a": {
          "model_module": "@jupyter-widgets/controls",
          "model_name": "DescriptionStyleModel",
          "model_module_version": "1.5.0",
          "state": {
            "_view_name": "StyleView",
            "_model_name": "DescriptionStyleModel",
            "description_width": "",
            "_view_module": "@jupyter-widgets/base",
            "_model_module_version": "1.5.0",
            "_view_count": null,
            "_view_module_version": "1.2.0",
            "_model_module": "@jupyter-widgets/controls"
          }
        },
        "cbb1d96d1b234d77ab9f67caa6e6c938": {
          "model_module": "@jupyter-widgets/base",
          "model_name": "LayoutModel",
          "model_module_version": "1.2.0",
          "state": {
            "_view_name": "LayoutView",
            "grid_template_rows": null,
            "right": null,
            "justify_content": null,
            "_view_module": "@jupyter-widgets/base",
            "overflow": null,
            "_model_module_version": "1.2.0",
            "_view_count": null,
            "flex_flow": null,
            "width": null,
            "min_width": null,
            "border": null,
            "align_items": null,
            "bottom": null,
            "_model_module": "@jupyter-widgets/base",
            "top": null,
            "grid_column": null,
            "overflow_y": null,
            "overflow_x": null,
            "grid_auto_flow": null,
            "grid_area": null,
            "grid_template_columns": null,
            "flex": null,
            "_model_name": "LayoutModel",
            "justify_items": null,
            "grid_row": null,
            "max_height": null,
            "align_content": null,
            "visibility": null,
            "align_self": null,
            "height": null,
            "min_height": null,
            "padding": null,
            "grid_auto_rows": null,
            "grid_gap": null,
            "max_width": null,
            "order": null,
            "_view_module_version": "1.2.0",
            "grid_template_areas": null,
            "object_position": null,
            "object_fit": null,
            "grid_auto_columns": null,
            "margin": null,
            "display": null,
            "left": null
          }
        },
        "a78f36de08ad4593a13416823b4c6719": {
          "model_module": "@jupyter-widgets/controls",
          "model_name": "ProgressStyleModel",
          "model_module_version": "1.5.0",
          "state": {
            "_view_name": "StyleView",
            "_model_name": "ProgressStyleModel",
            "description_width": "",
            "_view_module": "@jupyter-widgets/base",
            "_model_module_version": "1.5.0",
            "_view_count": null,
            "_view_module_version": "1.2.0",
            "bar_color": null,
            "_model_module": "@jupyter-widgets/controls"
          }
        },
        "3e53780201d14e27b425300fb35469d7": {
          "model_module": "@jupyter-widgets/base",
          "model_name": "LayoutModel",
          "model_module_version": "1.2.0",
          "state": {
            "_view_name": "LayoutView",
            "grid_template_rows": null,
            "right": null,
            "justify_content": null,
            "_view_module": "@jupyter-widgets/base",
            "overflow": null,
            "_model_module_version": "1.2.0",
            "_view_count": null,
            "flex_flow": null,
            "width": null,
            "min_width": null,
            "border": null,
            "align_items": null,
            "bottom": null,
            "_model_module": "@jupyter-widgets/base",
            "top": null,
            "grid_column": null,
            "overflow_y": null,
            "overflow_x": null,
            "grid_auto_flow": null,
            "grid_area": null,
            "grid_template_columns": null,
            "flex": null,
            "_model_name": "LayoutModel",
            "justify_items": null,
            "grid_row": null,
            "max_height": null,
            "align_content": null,
            "visibility": null,
            "align_self": null,
            "height": null,
            "min_height": null,
            "padding": null,
            "grid_auto_rows": null,
            "grid_gap": null,
            "max_width": null,
            "order": null,
            "_view_module_version": "1.2.0",
            "grid_template_areas": null,
            "object_position": null,
            "object_fit": null,
            "grid_auto_columns": null,
            "margin": null,
            "display": null,
            "left": null
          }
        },
        "c626b2981e5b49fda60f47c37dbb011c": {
          "model_module": "@jupyter-widgets/controls",
          "model_name": "DescriptionStyleModel",
          "model_module_version": "1.5.0",
          "state": {
            "_view_name": "StyleView",
            "_model_name": "DescriptionStyleModel",
            "description_width": "",
            "_view_module": "@jupyter-widgets/base",
            "_model_module_version": "1.5.0",
            "_view_count": null,
            "_view_module_version": "1.2.0",
            "_model_module": "@jupyter-widgets/controls"
          }
        },
        "0b91026ff814463ebab8f0cd45f90b01": {
          "model_module": "@jupyter-widgets/base",
          "model_name": "LayoutModel",
          "model_module_version": "1.2.0",
          "state": {
            "_view_name": "LayoutView",
            "grid_template_rows": null,
            "right": null,
            "justify_content": null,
            "_view_module": "@jupyter-widgets/base",
            "overflow": null,
            "_model_module_version": "1.2.0",
            "_view_count": null,
            "flex_flow": null,
            "width": null,
            "min_width": null,
            "border": null,
            "align_items": null,
            "bottom": null,
            "_model_module": "@jupyter-widgets/base",
            "top": null,
            "grid_column": null,
            "overflow_y": null,
            "overflow_x": null,
            "grid_auto_flow": null,
            "grid_area": null,
            "grid_template_columns": null,
            "flex": null,
            "_model_name": "LayoutModel",
            "justify_items": null,
            "grid_row": null,
            "max_height": null,
            "align_content": null,
            "visibility": null,
            "align_self": null,
            "height": null,
            "min_height": null,
            "padding": null,
            "grid_auto_rows": null,
            "grid_gap": null,
            "max_width": null,
            "order": null,
            "_view_module_version": "1.2.0",
            "grid_template_areas": null,
            "object_position": null,
            "object_fit": null,
            "grid_auto_columns": null,
            "margin": null,
            "display": null,
            "left": null
          }
        },
        "0bae927ba6ad4c10b74af3ee76d61d80": {
          "model_module": "@jupyter-widgets/controls",
          "model_name": "HBoxModel",
          "model_module_version": "1.5.0",
          "state": {
            "_view_name": "HBoxView",
            "_dom_classes": [],
            "_model_name": "HBoxModel",
            "_view_module": "@jupyter-widgets/controls",
            "_model_module_version": "1.5.0",
            "_view_count": null,
            "_view_module_version": "1.5.0",
            "box_style": "",
            "layout": "IPY_MODEL_0134582251014ec4ac7e14300e022007",
            "_model_module": "@jupyter-widgets/controls",
            "children": [
              "IPY_MODEL_60f992107f344b2fb6e56749f1c42189",
              "IPY_MODEL_3d6b8da4703241eeaff3583b37f2a912",
              "IPY_MODEL_9a78ff69a8394228a989f113ca92fc59"
            ]
          }
        },
        "0134582251014ec4ac7e14300e022007": {
          "model_module": "@jupyter-widgets/base",
          "model_name": "LayoutModel",
          "model_module_version": "1.2.0",
          "state": {
            "_view_name": "LayoutView",
            "grid_template_rows": null,
            "right": null,
            "justify_content": null,
            "_view_module": "@jupyter-widgets/base",
            "overflow": null,
            "_model_module_version": "1.2.0",
            "_view_count": null,
            "flex_flow": null,
            "width": null,
            "min_width": null,
            "border": null,
            "align_items": null,
            "bottom": null,
            "_model_module": "@jupyter-widgets/base",
            "top": null,
            "grid_column": null,
            "overflow_y": null,
            "overflow_x": null,
            "grid_auto_flow": null,
            "grid_area": null,
            "grid_template_columns": null,
            "flex": null,
            "_model_name": "LayoutModel",
            "justify_items": null,
            "grid_row": null,
            "max_height": null,
            "align_content": null,
            "visibility": null,
            "align_self": null,
            "height": null,
            "min_height": null,
            "padding": null,
            "grid_auto_rows": null,
            "grid_gap": null,
            "max_width": null,
            "order": null,
            "_view_module_version": "1.2.0",
            "grid_template_areas": null,
            "object_position": null,
            "object_fit": null,
            "grid_auto_columns": null,
            "margin": null,
            "display": null,
            "left": null
          }
        },
        "60f992107f344b2fb6e56749f1c42189": {
          "model_module": "@jupyter-widgets/controls",
          "model_name": "HTMLModel",
          "model_module_version": "1.5.0",
          "state": {
            "_view_name": "HTMLView",
            "style": "IPY_MODEL_87ac5d078d954357b689f283ab72638f",
            "_dom_classes": [],
            "description": "",
            "_model_name": "HTMLModel",
            "placeholder": "​",
            "_view_module": "@jupyter-widgets/controls",
            "_model_module_version": "1.5.0",
            "value": "100%",
            "_view_count": null,
            "_view_module_version": "1.5.0",
            "description_tooltip": null,
            "_model_module": "@jupyter-widgets/controls",
            "layout": "IPY_MODEL_84aaad8a90234183add4bdec82a6076a"
          }
        },
        "3d6b8da4703241eeaff3583b37f2a912": {
          "model_module": "@jupyter-widgets/controls",
          "model_name": "FloatProgressModel",
          "model_module_version": "1.5.0",
          "state": {
            "_view_name": "ProgressView",
            "style": "IPY_MODEL_d4232bc40a5c470bba9b902248c1c0c3",
            "_dom_classes": [],
            "description": "",
            "_model_name": "FloatProgressModel",
            "bar_style": "success",
            "max": 574673361,
            "_view_module": "@jupyter-widgets/controls",
            "_model_module_version": "1.5.0",
            "value": 574673361,
            "_view_count": null,
            "_view_module_version": "1.5.0",
            "orientation": "horizontal",
            "min": 0,
            "description_tooltip": null,
            "_model_module": "@jupyter-widgets/controls",
            "layout": "IPY_MODEL_d6b4d134cad540ae9a95f81bb575f220"
          }
        },
        "9a78ff69a8394228a989f113ca92fc59": {
          "model_module": "@jupyter-widgets/controls",
          "model_name": "HTMLModel",
          "model_module_version": "1.5.0",
          "state": {
            "_view_name": "HTMLView",
            "style": "IPY_MODEL_301a676230334c16af307023dde811ff",
            "_dom_classes": [],
            "description": "",
            "_model_name": "HTMLModel",
            "placeholder": "​",
            "_view_module": "@jupyter-widgets/controls",
            "_model_module_version": "1.5.0",
            "value": " 548M/548M [00:08&lt;00:00, 143MB/s]",
            "_view_count": null,
            "_view_module_version": "1.5.0",
            "description_tooltip": null,
            "_model_module": "@jupyter-widgets/controls",
            "layout": "IPY_MODEL_4ea8038ad5544c1a8e2bafcd01add648"
          }
        },
        "87ac5d078d954357b689f283ab72638f": {
          "model_module": "@jupyter-widgets/controls",
          "model_name": "DescriptionStyleModel",
          "model_module_version": "1.5.0",
          "state": {
            "_view_name": "StyleView",
            "_model_name": "DescriptionStyleModel",
            "description_width": "",
            "_view_module": "@jupyter-widgets/base",
            "_model_module_version": "1.5.0",
            "_view_count": null,
            "_view_module_version": "1.2.0",
            "_model_module": "@jupyter-widgets/controls"
          }
        },
        "84aaad8a90234183add4bdec82a6076a": {
          "model_module": "@jupyter-widgets/base",
          "model_name": "LayoutModel",
          "model_module_version": "1.2.0",
          "state": {
            "_view_name": "LayoutView",
            "grid_template_rows": null,
            "right": null,
            "justify_content": null,
            "_view_module": "@jupyter-widgets/base",
            "overflow": null,
            "_model_module_version": "1.2.0",
            "_view_count": null,
            "flex_flow": null,
            "width": null,
            "min_width": null,
            "border": null,
            "align_items": null,
            "bottom": null,
            "_model_module": "@jupyter-widgets/base",
            "top": null,
            "grid_column": null,
            "overflow_y": null,
            "overflow_x": null,
            "grid_auto_flow": null,
            "grid_area": null,
            "grid_template_columns": null,
            "flex": null,
            "_model_name": "LayoutModel",
            "justify_items": null,
            "grid_row": null,
            "max_height": null,
            "align_content": null,
            "visibility": null,
            "align_self": null,
            "height": null,
            "min_height": null,
            "padding": null,
            "grid_auto_rows": null,
            "grid_gap": null,
            "max_width": null,
            "order": null,
            "_view_module_version": "1.2.0",
            "grid_template_areas": null,
            "object_position": null,
            "object_fit": null,
            "grid_auto_columns": null,
            "margin": null,
            "display": null,
            "left": null
          }
        },
        "d4232bc40a5c470bba9b902248c1c0c3": {
          "model_module": "@jupyter-widgets/controls",
          "model_name": "ProgressStyleModel",
          "model_module_version": "1.5.0",
          "state": {
            "_view_name": "StyleView",
            "_model_name": "ProgressStyleModel",
            "description_width": "",
            "_view_module": "@jupyter-widgets/base",
            "_model_module_version": "1.5.0",
            "_view_count": null,
            "_view_module_version": "1.2.0",
            "bar_color": null,
            "_model_module": "@jupyter-widgets/controls"
          }
        },
        "d6b4d134cad540ae9a95f81bb575f220": {
          "model_module": "@jupyter-widgets/base",
          "model_name": "LayoutModel",
          "model_module_version": "1.2.0",
          "state": {
            "_view_name": "LayoutView",
            "grid_template_rows": null,
            "right": null,
            "justify_content": null,
            "_view_module": "@jupyter-widgets/base",
            "overflow": null,
            "_model_module_version": "1.2.0",
            "_view_count": null,
            "flex_flow": null,
            "width": null,
            "min_width": null,
            "border": null,
            "align_items": null,
            "bottom": null,
            "_model_module": "@jupyter-widgets/base",
            "top": null,
            "grid_column": null,
            "overflow_y": null,
            "overflow_x": null,
            "grid_auto_flow": null,
            "grid_area": null,
            "grid_template_columns": null,
            "flex": null,
            "_model_name": "LayoutModel",
            "justify_items": null,
            "grid_row": null,
            "max_height": null,
            "align_content": null,
            "visibility": null,
            "align_self": null,
            "height": null,
            "min_height": null,
            "padding": null,
            "grid_auto_rows": null,
            "grid_gap": null,
            "max_width": null,
            "order": null,
            "_view_module_version": "1.2.0",
            "grid_template_areas": null,
            "object_position": null,
            "object_fit": null,
            "grid_auto_columns": null,
            "margin": null,
            "display": null,
            "left": null
          }
        },
        "301a676230334c16af307023dde811ff": {
          "model_module": "@jupyter-widgets/controls",
          "model_name": "DescriptionStyleModel",
          "model_module_version": "1.5.0",
          "state": {
            "_view_name": "StyleView",
            "_model_name": "DescriptionStyleModel",
            "description_width": "",
            "_view_module": "@jupyter-widgets/base",
            "_model_module_version": "1.5.0",
            "_view_count": null,
            "_view_module_version": "1.2.0",
            "_model_module": "@jupyter-widgets/controls"
          }
        },
        "4ea8038ad5544c1a8e2bafcd01add648": {
          "model_module": "@jupyter-widgets/base",
          "model_name": "LayoutModel",
          "model_module_version": "1.2.0",
          "state": {
            "_view_name": "LayoutView",
            "grid_template_rows": null,
            "right": null,
            "justify_content": null,
            "_view_module": "@jupyter-widgets/base",
            "overflow": null,
            "_model_module_version": "1.2.0",
            "_view_count": null,
            "flex_flow": null,
            "width": null,
            "min_width": null,
            "border": null,
            "align_items": null,
            "bottom": null,
            "_model_module": "@jupyter-widgets/base",
            "top": null,
            "grid_column": null,
            "overflow_y": null,
            "overflow_x": null,
            "grid_auto_flow": null,
            "grid_area": null,
            "grid_template_columns": null,
            "flex": null,
            "_model_name": "LayoutModel",
            "justify_items": null,
            "grid_row": null,
            "max_height": null,
            "align_content": null,
            "visibility": null,
            "align_self": null,
            "height": null,
            "min_height": null,
            "padding": null,
            "grid_auto_rows": null,
            "grid_gap": null,
            "max_width": null,
            "order": null,
            "_view_module_version": "1.2.0",
            "grid_template_areas": null,
            "object_position": null,
            "object_fit": null,
            "grid_auto_columns": null,
            "margin": null,
            "display": null,
            "left": null
          }
        }
      }
    },
    "accelerator": "GPU"
  },
  "cells": [
    {
      "cell_type": "markdown",
      "metadata": {
        "id": "view-in-github",
        "colab_type": "text"
      },
      "source": [
        "<a href=\"https://colab.research.google.com/github/VineetGp/Images/blob/main/HW2_21566020.ipynb\" target=\"_parent\"><img src=\"https://colab.research.google.com/assets/colab-badge.svg\" alt=\"Open In Colab\"/></a>"
      ]
    },
    {
      "cell_type": "markdown",
      "source": [
        "#AID 565 Computer Vision Assignment 02"
      ],
      "metadata": {
        "id": "2SkpFFA1AExS"
      }
    },
    {
      "cell_type": "markdown",
      "source": [
        "**Name**: Vineet Gupta\n",
        "\n",
        "**Roll No** : 21566020\n"
      ],
      "metadata": {
        "id": "ytUK1WweACnU"
      }
    },
    {
      "cell_type": "markdown",
      "source": [
        "**Q.1** Load a pretrained model and print weights of any one layer of the model"
      ],
      "metadata": {
        "id": "FO_5GNABAVwP"
      }
    },
    {
      "cell_type": "code",
      "source": [
        "import torch\n",
        "from torchvision import models"
      ],
      "metadata": {
        "id": "9Ro3QEFYASwu"
      },
      "execution_count": 3,
      "outputs": []
    },
    {
      "cell_type": "code",
      "source": [
        "vgg = models.vgg16(pretrained=True)\n",
        "print(vgg)"
      ],
      "metadata": {
        "colab": {
          "base_uri": "https://localhost:8080/",
          "height": 847,
          "referenced_widgets": [
            "87bb06219bd74c6783825ceb48044227",
            "ff767c36e02c443dbee6e82871f14e70",
            "2f459b2b399d4d8db90956bc4f90b60f",
            "ff0314b682434fe8b29cd72877749746",
            "353fe6bfc93b41e5a18c3dd423d3bacb",
            "a8bb5c5236c84a87bd265a4469c54bdc",
            "06b668b6cc394a9f90de8f476133602f",
            "01788881d9d644e68785d332b3ea8e06",
            "a0faa584b980409ca30f86abac894ffd",
            "6a49882d8cd343528edbb221a8c2debe",
            "18147da18d0d4e13ab69a5549c702422"
          ]
        },
        "id": "Hkrg9exODOup",
        "outputId": "9f55d89a-3005-40f4-b709-5468c90ad41b"
      },
      "execution_count": 4,
      "outputs": [
        {
          "output_type": "stream",
          "name": "stderr",
          "text": [
            "Downloading: \"https://download.pytorch.org/models/vgg16-397923af.pth\" to /root/.cache/torch/hub/checkpoints/vgg16-397923af.pth\n"
          ]
        },
        {
          "output_type": "display_data",
          "data": {
            "application/vnd.jupyter.widget-view+json": {
              "model_id": "87bb06219bd74c6783825ceb48044227",
              "version_minor": 0,
              "version_major": 2
            },
            "text/plain": [
              "  0%|          | 0.00/528M [00:00<?, ?B/s]"
            ]
          },
          "metadata": {}
        },
        {
          "output_type": "stream",
          "name": "stdout",
          "text": [
            "VGG(\n",
            "  (features): Sequential(\n",
            "    (0): Conv2d(3, 64, kernel_size=(3, 3), stride=(1, 1), padding=(1, 1))\n",
            "    (1): ReLU(inplace=True)\n",
            "    (2): Conv2d(64, 64, kernel_size=(3, 3), stride=(1, 1), padding=(1, 1))\n",
            "    (3): ReLU(inplace=True)\n",
            "    (4): MaxPool2d(kernel_size=2, stride=2, padding=0, dilation=1, ceil_mode=False)\n",
            "    (5): Conv2d(64, 128, kernel_size=(3, 3), stride=(1, 1), padding=(1, 1))\n",
            "    (6): ReLU(inplace=True)\n",
            "    (7): Conv2d(128, 128, kernel_size=(3, 3), stride=(1, 1), padding=(1, 1))\n",
            "    (8): ReLU(inplace=True)\n",
            "    (9): MaxPool2d(kernel_size=2, stride=2, padding=0, dilation=1, ceil_mode=False)\n",
            "    (10): Conv2d(128, 256, kernel_size=(3, 3), stride=(1, 1), padding=(1, 1))\n",
            "    (11): ReLU(inplace=True)\n",
            "    (12): Conv2d(256, 256, kernel_size=(3, 3), stride=(1, 1), padding=(1, 1))\n",
            "    (13): ReLU(inplace=True)\n",
            "    (14): Conv2d(256, 256, kernel_size=(3, 3), stride=(1, 1), padding=(1, 1))\n",
            "    (15): ReLU(inplace=True)\n",
            "    (16): MaxPool2d(kernel_size=2, stride=2, padding=0, dilation=1, ceil_mode=False)\n",
            "    (17): Conv2d(256, 512, kernel_size=(3, 3), stride=(1, 1), padding=(1, 1))\n",
            "    (18): ReLU(inplace=True)\n",
            "    (19): Conv2d(512, 512, kernel_size=(3, 3), stride=(1, 1), padding=(1, 1))\n",
            "    (20): ReLU(inplace=True)\n",
            "    (21): Conv2d(512, 512, kernel_size=(3, 3), stride=(1, 1), padding=(1, 1))\n",
            "    (22): ReLU(inplace=True)\n",
            "    (23): MaxPool2d(kernel_size=2, stride=2, padding=0, dilation=1, ceil_mode=False)\n",
            "    (24): Conv2d(512, 512, kernel_size=(3, 3), stride=(1, 1), padding=(1, 1))\n",
            "    (25): ReLU(inplace=True)\n",
            "    (26): Conv2d(512, 512, kernel_size=(3, 3), stride=(1, 1), padding=(1, 1))\n",
            "    (27): ReLU(inplace=True)\n",
            "    (28): Conv2d(512, 512, kernel_size=(3, 3), stride=(1, 1), padding=(1, 1))\n",
            "    (29): ReLU(inplace=True)\n",
            "    (30): MaxPool2d(kernel_size=2, stride=2, padding=0, dilation=1, ceil_mode=False)\n",
            "  )\n",
            "  (avgpool): AdaptiveAvgPool2d(output_size=(7, 7))\n",
            "  (classifier): Sequential(\n",
            "    (0): Linear(in_features=25088, out_features=4096, bias=True)\n",
            "    (1): ReLU(inplace=True)\n",
            "    (2): Dropout(p=0.5, inplace=False)\n",
            "    (3): Linear(in_features=4096, out_features=4096, bias=True)\n",
            "    (4): ReLU(inplace=True)\n",
            "    (5): Dropout(p=0.5, inplace=False)\n",
            "    (6): Linear(in_features=4096, out_features=1000, bias=True)\n",
            "  )\n",
            ")\n"
          ]
        }
      ]
    },
    {
      "cell_type": "code",
      "source": [
        "#printing weights of layer 0\n",
        "print(vgg.features[0].weight)"
      ],
      "metadata": {
        "colab": {
          "base_uri": "https://localhost:8080/",
          "height": 0
        },
        "id": "oM46ryKQJSER",
        "outputId": "b2194acc-d293-49e8-a66a-d3610a5ae49f"
      },
      "execution_count": 5,
      "outputs": [
        {
          "output_type": "stream",
          "name": "stdout",
          "text": [
            "Parameter containing:\n",
            "tensor([[[[-5.5373e-01,  1.4270e-01,  5.2896e-01],\n",
            "          [-5.8312e-01,  3.5655e-01,  7.6566e-01],\n",
            "          [-6.9022e-01, -4.8019e-02,  4.8409e-01]],\n",
            "\n",
            "         [[ 1.7548e-01,  9.8630e-03, -8.1413e-02],\n",
            "          [ 4.4089e-02, -7.0323e-02, -2.6035e-01],\n",
            "          [ 1.3239e-01, -1.7279e-01, -1.3226e-01]],\n",
            "\n",
            "         [[ 3.1303e-01, -1.6591e-01, -4.2752e-01],\n",
            "          [ 4.7519e-01, -8.2677e-02, -4.8700e-01],\n",
            "          [ 6.3203e-01,  1.9308e-02, -2.7753e-01]]],\n",
            "\n",
            "\n",
            "        [[[ 2.3254e-01,  1.2666e-01,  1.8605e-01],\n",
            "          [-4.2805e-01, -2.4349e-01,  2.4628e-01],\n",
            "          [-2.5066e-01,  1.4177e-01, -5.4864e-03]],\n",
            "\n",
            "         [[-1.4076e-01, -2.1903e-01,  1.5041e-01],\n",
            "          [-8.4127e-01, -3.5176e-01,  5.6398e-01],\n",
            "          [-2.4194e-01,  5.1928e-01,  5.3915e-01]],\n",
            "\n",
            "         [[-3.1432e-01, -3.7048e-01, -1.3094e-01],\n",
            "          [-4.7144e-01, -1.5503e-01,  3.4589e-01],\n",
            "          [ 5.4384e-02,  5.8683e-01,  4.9580e-01]]],\n",
            "\n",
            "\n",
            "        [[[ 1.7715e-01,  5.2149e-01,  9.8740e-03],\n",
            "          [-2.7185e-01, -7.1709e-01,  3.1292e-01],\n",
            "          [-7.5753e-02, -2.2079e-01,  3.3455e-01]],\n",
            "\n",
            "         [[ 3.0924e-01,  6.7071e-01,  2.0546e-02],\n",
            "          [-4.6607e-01, -1.0697e+00,  3.3501e-01],\n",
            "          [-8.0284e-02, -3.0522e-01,  5.4460e-01]],\n",
            "\n",
            "         [[ 3.1572e-01,  4.2335e-01, -3.4976e-01],\n",
            "          [ 8.6354e-02, -4.6457e-01,  1.1803e-02],\n",
            "          [ 1.0483e-01, -1.4584e-01, -1.5765e-02]]],\n",
            "\n",
            "\n",
            "        ...,\n",
            "\n",
            "\n",
            "        [[[ 7.7599e-02,  1.2692e-01,  3.2305e-02],\n",
            "          [ 2.2131e-01,  2.4681e-01, -4.6637e-02],\n",
            "          [ 4.6407e-02,  2.8246e-02,  1.7528e-02]],\n",
            "\n",
            "         [[-1.8327e-01, -6.7425e-02, -7.2120e-03],\n",
            "          [-4.8855e-02,  7.0427e-03, -1.2883e-01],\n",
            "          [-6.4601e-02, -6.4566e-02,  4.4235e-02]],\n",
            "\n",
            "         [[-2.2547e-01, -1.1931e-01, -2.3425e-02],\n",
            "          [-9.9171e-02, -1.5143e-02,  9.5385e-04],\n",
            "          [-2.6137e-02,  1.3567e-03,  1.4282e-01]]],\n",
            "\n",
            "\n",
            "        [[[ 1.6520e-02, -3.2225e-02, -3.8450e-03],\n",
            "          [-6.8206e-02, -1.9445e-01, -1.4166e-01],\n",
            "          [-6.9528e-02, -1.8340e-01, -1.7422e-01]],\n",
            "\n",
            "         [[ 4.2781e-02, -6.7529e-02, -7.0309e-03],\n",
            "          [ 1.1765e-02, -1.4958e-01, -1.2361e-01],\n",
            "          [ 1.0205e-02, -1.0393e-01, -1.1742e-01]],\n",
            "\n",
            "         [[ 1.2661e-01,  8.5046e-02,  1.3066e-01],\n",
            "          [ 1.7585e-01,  1.1288e-01,  1.1937e-01],\n",
            "          [ 1.4656e-01,  9.8892e-02,  1.0348e-01]]],\n",
            "\n",
            "\n",
            "        [[[ 3.2176e-02, -1.0766e-01, -2.6388e-01],\n",
            "          [ 2.7957e-01, -3.7416e-02, -2.5471e-01],\n",
            "          [ 3.4872e-01,  3.0041e-02, -5.5898e-02]],\n",
            "\n",
            "         [[ 2.5063e-01,  1.5543e-01, -1.7432e-01],\n",
            "          [ 3.9255e-01,  3.2306e-02, -3.5191e-01],\n",
            "          [ 1.9299e-01, -1.9898e-01, -2.9713e-01]],\n",
            "\n",
            "         [[ 4.6032e-01,  4.3399e-01,  2.8352e-01],\n",
            "          [ 1.6341e-01, -5.8165e-02, -1.9196e-01],\n",
            "          [-1.9521e-01, -4.5630e-01, -4.2732e-01]]]], requires_grad=True)\n"
          ]
        }
      ]
    },
    {
      "cell_type": "markdown",
      "source": [
        "**Q.2** Observe the difference between normal and group convolutions. Also try depthwise convolutions, where groups=in_channels"
      ],
      "metadata": {
        "id": "7ojsvlPQLGYa"
      }
    },
    {
      "cell_type": "code",
      "source": [
        "import torch.nn as nn"
      ],
      "metadata": {
        "id": "Gt32_6e1JokS"
      },
      "execution_count": 6,
      "outputs": []
    },
    {
      "cell_type": "code",
      "source": [
        "#Normal Convolution\n",
        "conv = nn.Conv2d(\n",
        "    in_channels=500,\n",
        "    out_channels = 10,\n",
        "    kernel_size = 3,\n",
        "    stride = 1,\n",
        "    padding= 'same',\n",
        "    groups = 1\n",
        ")\n",
        "print(conv.weight.shape)"
      ],
      "metadata": {
        "colab": {
          "base_uri": "https://localhost:8080/",
          "height": 0
        },
        "id": "XEC3lg9lxD1q",
        "outputId": "6e19c003-eb38-48b9-dc2b-8d0242d322f0"
      },
      "execution_count": 7,
      "outputs": [
        {
          "output_type": "stream",
          "name": "stdout",
          "text": [
            "torch.Size([10, 500, 3, 3])\n"
          ]
        }
      ]
    },
    {
      "cell_type": "code",
      "source": [
        "#Group convolution with group size = 2\n",
        "conv = nn.Conv2d(\n",
        "    in_channels=500,\n",
        "    out_channels = 10,\n",
        "    kernel_size = 3,\n",
        "    stride = 1,\n",
        "    padding= 'same' ,\n",
        "    groups = 10\n",
        ")\n",
        "print(conv.weight.shape)"
      ],
      "metadata": {
        "colab": {
          "base_uri": "https://localhost:8080/",
          "height": 0
        },
        "id": "_JiyT1Y9xqbV",
        "outputId": "ab817234-3470-448f-e718-a97650108cda"
      },
      "execution_count": 8,
      "outputs": [
        {
          "output_type": "stream",
          "name": "stdout",
          "text": [
            "torch.Size([10, 50, 3, 3])\n"
          ]
        }
      ]
    },
    {
      "cell_type": "code",
      "source": [
        "conv = nn.Conv2d(\n",
        "    in_channels=500,\n",
        "    out_channels = 500,\n",
        "    kernel_size = 3,\n",
        "    stride = 1,\n",
        "    padding= 1 ,\n",
        "    groups = 500\n",
        ")\n",
        "print(conv.weight.shape)"
      ],
      "metadata": {
        "colab": {
          "base_uri": "https://localhost:8080/",
          "height": 0
        },
        "id": "UlSHlEcl1JwZ",
        "outputId": "4f5dcb81-196e-4347-fe5a-e817dedf4f84"
      },
      "execution_count": 9,
      "outputs": [
        {
          "output_type": "stream",
          "name": "stdout",
          "text": [
            "torch.Size([500, 1, 3, 3])\n"
          ]
        }
      ]
    },
    {
      "cell_type": "markdown",
      "source": [
        "**Q.3** Load a pretrained model and perform transfer learning on it."
      ],
      "metadata": {
        "id": "HrCtMsprjLOR"
      }
    },
    {
      "cell_type": "code",
      "source": [
        "from __future__ import print_function, division\n",
        "import torch.optim as optim\n",
        "from torch.optim import lr_scheduler\n",
        "import numpy as np\n",
        "import torchvision\n",
        "from torchvision import datasets, transforms\n",
        "import matplotlib.pyplot as plt\n",
        "import copy\n",
        "import time\n",
        "import os\n",
        "\n",
        "\n",
        "plt.ion()"
      ],
      "metadata": {
        "id": "qZTffX5Bx5xd"
      },
      "execution_count": 10,
      "outputs": []
    },
    {
      "cell_type": "code",
      "source": [
        "!wget https://download.pytorch.org/tutorial/hymenoptera_data.zip"
      ],
      "metadata": {
        "colab": {
          "base_uri": "https://localhost:8080/",
          "height": 0
        },
        "id": "nMeVOlHmjR2o",
        "outputId": "1a4dd3d6-212e-4dfc-be9c-7b9dbeec9ac6"
      },
      "execution_count": 11,
      "outputs": [
        {
          "output_type": "stream",
          "name": "stdout",
          "text": [
            "--2022-01-26 16:54:18--  https://download.pytorch.org/tutorial/hymenoptera_data.zip\n",
            "Resolving download.pytorch.org (download.pytorch.org)... 13.224.154.14, 13.224.154.24, 13.224.154.106, ...\n",
            "Connecting to download.pytorch.org (download.pytorch.org)|13.224.154.14|:443... connected.\n",
            "HTTP request sent, awaiting response... 200 OK\n",
            "Length: 47286322 (45M) [application/zip]\n",
            "Saving to: ‘hymenoptera_data.zip’\n",
            "\n",
            "hymenoptera_data.zi 100%[===================>]  45.10M  59.9MB/s    in 0.8s    \n",
            "\n",
            "2022-01-26 16:54:19 (59.9 MB/s) - ‘hymenoptera_data.zip’ saved [47286322/47286322]\n",
            "\n"
          ]
        }
      ]
    },
    {
      "cell_type": "code",
      "source": [
        "!unzip hymenoptera_data.zip"
      ],
      "metadata": {
        "colab": {
          "base_uri": "https://localhost:8080/",
          "height": 0
        },
        "id": "Wgixz1M3jW6M",
        "outputId": "539b5b98-0835-4ead-9abb-634434a20ddf"
      },
      "execution_count": 12,
      "outputs": [
        {
          "output_type": "stream",
          "name": "stdout",
          "text": [
            "Archive:  hymenoptera_data.zip\n",
            "   creating: hymenoptera_data/\n",
            "   creating: hymenoptera_data/train/\n",
            "   creating: hymenoptera_data/train/ants/\n",
            "  inflating: hymenoptera_data/train/ants/0013035.jpg  \n",
            "  inflating: hymenoptera_data/train/ants/1030023514_aad5c608f9.jpg  \n",
            "  inflating: hymenoptera_data/train/ants/1095476100_3906d8afde.jpg  \n",
            "  inflating: hymenoptera_data/train/ants/1099452230_d1949d3250.jpg  \n",
            "  inflating: hymenoptera_data/train/ants/116570827_e9c126745d.jpg  \n",
            "  inflating: hymenoptera_data/train/ants/1225872729_6f0856588f.jpg  \n",
            "  inflating: hymenoptera_data/train/ants/1262877379_64fcada201.jpg  \n",
            "  inflating: hymenoptera_data/train/ants/1269756697_0bce92cdab.jpg  \n",
            "  inflating: hymenoptera_data/train/ants/1286984635_5119e80de1.jpg  \n",
            "  inflating: hymenoptera_data/train/ants/132478121_2a430adea2.jpg  \n",
            "  inflating: hymenoptera_data/train/ants/1360291657_dc248c5eea.jpg  \n",
            "  inflating: hymenoptera_data/train/ants/1368913450_e146e2fb6d.jpg  \n",
            "  inflating: hymenoptera_data/train/ants/1473187633_63ccaacea6.jpg  \n",
            "  inflating: hymenoptera_data/train/ants/148715752_302c84f5a4.jpg  \n",
            "  inflating: hymenoptera_data/train/ants/1489674356_09d48dde0a.jpg  \n",
            "  inflating: hymenoptera_data/train/ants/149244013_c529578289.jpg  \n",
            "  inflating: hymenoptera_data/train/ants/150801003_3390b73135.jpg  \n",
            "  inflating: hymenoptera_data/train/ants/150801171_cd86f17ed8.jpg  \n",
            "  inflating: hymenoptera_data/train/ants/154124431_65460430f2.jpg  \n",
            "  inflating: hymenoptera_data/train/ants/162603798_40b51f1654.jpg  \n",
            "  inflating: hymenoptera_data/train/ants/1660097129_384bf54490.jpg  \n",
            "  inflating: hymenoptera_data/train/ants/167890289_dd5ba923f3.jpg  \n",
            "  inflating: hymenoptera_data/train/ants/1693954099_46d4c20605.jpg  \n",
            "  inflating: hymenoptera_data/train/ants/175998972.jpg  \n",
            "  inflating: hymenoptera_data/train/ants/178538489_bec7649292.jpg  \n",
            "  inflating: hymenoptera_data/train/ants/1804095607_0341701e1c.jpg  \n",
            "  inflating: hymenoptera_data/train/ants/1808777855_2a895621d7.jpg  \n",
            "  inflating: hymenoptera_data/train/ants/188552436_605cc9b36b.jpg  \n",
            "  inflating: hymenoptera_data/train/ants/1917341202_d00a7f9af5.jpg  \n",
            "  inflating: hymenoptera_data/train/ants/1924473702_daa9aacdbe.jpg  \n",
            "  inflating: hymenoptera_data/train/ants/196057951_63bf063b92.jpg  \n",
            "  inflating: hymenoptera_data/train/ants/196757565_326437f5fe.jpg  \n",
            "  inflating: hymenoptera_data/train/ants/201558278_fe4caecc76.jpg  \n",
            "  inflating: hymenoptera_data/train/ants/201790779_527f4c0168.jpg  \n",
            "  inflating: hymenoptera_data/train/ants/2019439677_2db655d361.jpg  \n",
            "  inflating: hymenoptera_data/train/ants/207947948_3ab29d7207.jpg  \n",
            "  inflating: hymenoptera_data/train/ants/20935278_9190345f6b.jpg  \n",
            "  inflating: hymenoptera_data/train/ants/224655713_3956f7d39a.jpg  \n",
            "  inflating: hymenoptera_data/train/ants/2265824718_2c96f485da.jpg  \n",
            "  inflating: hymenoptera_data/train/ants/2265825502_fff99cfd2d.jpg  \n",
            "  inflating: hymenoptera_data/train/ants/226951206_d6bf946504.jpg  \n",
            "  inflating: hymenoptera_data/train/ants/2278278459_6b99605e50.jpg  \n",
            "  inflating: hymenoptera_data/train/ants/2288450226_a6e96e8fdf.jpg  \n",
            "  inflating: hymenoptera_data/train/ants/2288481644_83ff7e4572.jpg  \n",
            "  inflating: hymenoptera_data/train/ants/2292213964_ca51ce4bef.jpg  \n",
            "  inflating: hymenoptera_data/train/ants/24335309_c5ea483bb8.jpg  \n",
            "  inflating: hymenoptera_data/train/ants/245647475_9523dfd13e.jpg  \n",
            "  inflating: hymenoptera_data/train/ants/255434217_1b2b3fe0a4.jpg  \n",
            "  inflating: hymenoptera_data/train/ants/258217966_d9d90d18d3.jpg  \n",
            "  inflating: hymenoptera_data/train/ants/275429470_b2d7d9290b.jpg  \n",
            "  inflating: hymenoptera_data/train/ants/28847243_e79fe052cd.jpg  \n",
            "  inflating: hymenoptera_data/train/ants/318052216_84dff3f98a.jpg  \n",
            "  inflating: hymenoptera_data/train/ants/334167043_cbd1adaeb9.jpg  \n",
            "  inflating: hymenoptera_data/train/ants/339670531_94b75ae47a.jpg  \n",
            "  inflating: hymenoptera_data/train/ants/342438950_a3da61deab.jpg  \n",
            "  inflating: hymenoptera_data/train/ants/36439863_0bec9f554f.jpg  \n",
            "  inflating: hymenoptera_data/train/ants/374435068_7eee412ec4.jpg  \n",
            "  inflating: hymenoptera_data/train/ants/382971067_0bfd33afe0.jpg  \n",
            "  inflating: hymenoptera_data/train/ants/384191229_5779cf591b.jpg  \n",
            "  inflating: hymenoptera_data/train/ants/386190770_672743c9a7.jpg  \n",
            "  inflating: hymenoptera_data/train/ants/392382602_1b7bed32fa.jpg  \n",
            "  inflating: hymenoptera_data/train/ants/403746349_71384f5b58.jpg  \n",
            "  inflating: hymenoptera_data/train/ants/408393566_b5b694119b.jpg  \n",
            "  inflating: hymenoptera_data/train/ants/424119020_6d57481dab.jpg  \n",
            "  inflating: hymenoptera_data/train/ants/424873399_47658a91fb.jpg  \n",
            "  inflating: hymenoptera_data/train/ants/450057712_771b3bfc91.jpg  \n",
            "  inflating: hymenoptera_data/train/ants/45472593_bfd624f8dc.jpg  \n",
            "  inflating: hymenoptera_data/train/ants/459694881_ac657d3187.jpg  \n",
            "  inflating: hymenoptera_data/train/ants/460372577_f2f6a8c9fc.jpg  \n",
            "  inflating: hymenoptera_data/train/ants/460874319_0a45ab4d05.jpg  \n",
            "  inflating: hymenoptera_data/train/ants/466430434_4000737de9.jpg  \n",
            "  inflating: hymenoptera_data/train/ants/470127037_513711fd21.jpg  \n",
            "  inflating: hymenoptera_data/train/ants/474806473_ca6caab245.jpg  \n",
            "  inflating: hymenoptera_data/train/ants/475961153_b8c13fd405.jpg  \n",
            "  inflating: hymenoptera_data/train/ants/484293231_e53cfc0c89.jpg  \n",
            "  inflating: hymenoptera_data/train/ants/49375974_e28ba6f17e.jpg  \n",
            "  inflating: hymenoptera_data/train/ants/506249802_207cd979b4.jpg  \n",
            "  inflating: hymenoptera_data/train/ants/506249836_717b73f540.jpg  \n",
            "  inflating: hymenoptera_data/train/ants/512164029_c0a66b8498.jpg  \n",
            "  inflating: hymenoptera_data/train/ants/512863248_43c8ce579b.jpg  \n",
            "  inflating: hymenoptera_data/train/ants/518773929_734dbc5ff4.jpg  \n",
            "  inflating: hymenoptera_data/train/ants/522163566_fec115ca66.jpg  \n",
            "  inflating: hymenoptera_data/train/ants/522415432_2218f34bf8.jpg  \n",
            "  inflating: hymenoptera_data/train/ants/531979952_bde12b3bc0.jpg  \n",
            "  inflating: hymenoptera_data/train/ants/533848102_70a85ad6dd.jpg  \n",
            "  inflating: hymenoptera_data/train/ants/535522953_308353a07c.jpg  \n",
            "  inflating: hymenoptera_data/train/ants/540889389_48bb588b21.jpg  \n",
            "  inflating: hymenoptera_data/train/ants/541630764_dbd285d63c.jpg  \n",
            "  inflating: hymenoptera_data/train/ants/543417860_b14237f569.jpg  \n",
            "  inflating: hymenoptera_data/train/ants/560966032_988f4d7bc4.jpg  \n",
            "  inflating: hymenoptera_data/train/ants/5650366_e22b7e1065.jpg  \n",
            "  inflating: hymenoptera_data/train/ants/6240329_72c01e663e.jpg  \n",
            "  inflating: hymenoptera_data/train/ants/6240338_93729615ec.jpg  \n",
            "  inflating: hymenoptera_data/train/ants/649026570_e58656104b.jpg  \n",
            "  inflating: hymenoptera_data/train/ants/662541407_ff8db781e7.jpg  \n",
            "  inflating: hymenoptera_data/train/ants/67270775_e9fdf77e9d.jpg  \n",
            "  inflating: hymenoptera_data/train/ants/6743948_2b8c096dda.jpg  \n",
            "  inflating: hymenoptera_data/train/ants/684133190_35b62c0c1d.jpg  \n",
            "  inflating: hymenoptera_data/train/ants/69639610_95e0de17aa.jpg  \n",
            "  inflating: hymenoptera_data/train/ants/707895295_009cf23188.jpg  \n",
            "  inflating: hymenoptera_data/train/ants/7759525_1363d24e88.jpg  \n",
            "  inflating: hymenoptera_data/train/ants/795000156_a9900a4a71.jpg  \n",
            "  inflating: hymenoptera_data/train/ants/822537660_caf4ba5514.jpg  \n",
            "  inflating: hymenoptera_data/train/ants/82852639_52b7f7f5e3.jpg  \n",
            "  inflating: hymenoptera_data/train/ants/841049277_b28e58ad05.jpg  \n",
            "  inflating: hymenoptera_data/train/ants/886401651_f878e888cd.jpg  \n",
            "  inflating: hymenoptera_data/train/ants/892108839_f1aad4ca46.jpg  \n",
            "  inflating: hymenoptera_data/train/ants/938946700_ca1c669085.jpg  \n",
            "  inflating: hymenoptera_data/train/ants/957233405_25c1d1187b.jpg  \n",
            "  inflating: hymenoptera_data/train/ants/9715481_b3cb4114ff.jpg  \n",
            "  inflating: hymenoptera_data/train/ants/998118368_6ac1d91f81.jpg  \n",
            "  inflating: hymenoptera_data/train/ants/ant photos.jpg  \n",
            "  inflating: hymenoptera_data/train/ants/Ant_1.jpg  \n",
            "  inflating: hymenoptera_data/train/ants/army-ants-red-picture.jpg  \n",
            "  inflating: hymenoptera_data/train/ants/formica.jpeg  \n",
            "  inflating: hymenoptera_data/train/ants/hormiga_co_por.jpg  \n",
            "  inflating: hymenoptera_data/train/ants/imageNotFound.gif  \n",
            "  inflating: hymenoptera_data/train/ants/kurokusa.jpg  \n",
            "  inflating: hymenoptera_data/train/ants/MehdiabadiAnt2_600.jpg  \n",
            "  inflating: hymenoptera_data/train/ants/Nepenthes_rafflesiana_ant.jpg  \n",
            "  inflating: hymenoptera_data/train/ants/swiss-army-ant.jpg  \n",
            "  inflating: hymenoptera_data/train/ants/termite-vs-ant.jpg  \n",
            "  inflating: hymenoptera_data/train/ants/trap-jaw-ant-insect-bg.jpg  \n",
            "  inflating: hymenoptera_data/train/ants/VietnameseAntMimicSpider.jpg  \n",
            "   creating: hymenoptera_data/train/bees/\n",
            "  inflating: hymenoptera_data/train/bees/1092977343_cb42b38d62.jpg  \n",
            "  inflating: hymenoptera_data/train/bees/1093831624_fb5fbe2308.jpg  \n",
            "  inflating: hymenoptera_data/train/bees/1097045929_1753d1c765.jpg  \n",
            "  inflating: hymenoptera_data/train/bees/1232245714_f862fbe385.jpg  \n",
            "  inflating: hymenoptera_data/train/bees/129236073_0985e91c7d.jpg  \n",
            "  inflating: hymenoptera_data/train/bees/1295655112_7813f37d21.jpg  \n",
            "  inflating: hymenoptera_data/train/bees/132511197_0b86ad0fff.jpg  \n",
            "  inflating: hymenoptera_data/train/bees/132826773_dbbcb117b9.jpg  \n",
            "  inflating: hymenoptera_data/train/bees/150013791_969d9a968b.jpg  \n",
            "  inflating: hymenoptera_data/train/bees/1508176360_2972117c9d.jpg  \n",
            "  inflating: hymenoptera_data/train/bees/154600396_53e1252e52.jpg  \n",
            "  inflating: hymenoptera_data/train/bees/16838648_415acd9e3f.jpg  \n",
            "  inflating: hymenoptera_data/train/bees/1691282715_0addfdf5e8.jpg  \n",
            "  inflating: hymenoptera_data/train/bees/17209602_fe5a5a746f.jpg  \n",
            "  inflating: hymenoptera_data/train/bees/174142798_e5ad6d76e0.jpg  \n",
            "  inflating: hymenoptera_data/train/bees/1799726602_8580867f71.jpg  \n",
            "  inflating: hymenoptera_data/train/bees/1807583459_4fe92b3133.jpg  \n",
            "  inflating: hymenoptera_data/train/bees/196430254_46bd129ae7.jpg  \n",
            "  inflating: hymenoptera_data/train/bees/196658222_3fffd79c67.jpg  \n",
            "  inflating: hymenoptera_data/train/bees/198508668_97d818b6c4.jpg  \n",
            "  inflating: hymenoptera_data/train/bees/2031225713_50ed499635.jpg  \n",
            "  inflating: hymenoptera_data/train/bees/2037437624_2d7bce461f.jpg  \n",
            "  inflating: hymenoptera_data/train/bees/2053200300_8911ef438a.jpg  \n",
            "  inflating: hymenoptera_data/train/bees/205835650_e6f2614bee.jpg  \n",
            "  inflating: hymenoptera_data/train/bees/208702903_42fb4d9748.jpg  \n",
            "  inflating: hymenoptera_data/train/bees/21399619_3e61e5bb6f.jpg  \n",
            "  inflating: hymenoptera_data/train/bees/2227611847_ec72d40403.jpg  \n",
            "  inflating: hymenoptera_data/train/bees/2321139806_d73d899e66.jpg  \n",
            "  inflating: hymenoptera_data/train/bees/2330918208_8074770c20.jpg  \n",
            "  inflating: hymenoptera_data/train/bees/2345177635_caf07159b3.jpg  \n",
            "  inflating: hymenoptera_data/train/bees/2358061370_9daabbd9ac.jpg  \n",
            "  inflating: hymenoptera_data/train/bees/2364597044_3c3e3fc391.jpg  \n",
            "  inflating: hymenoptera_data/train/bees/2384149906_2cd8b0b699.jpg  \n",
            "  inflating: hymenoptera_data/train/bees/2397446847_04ef3cd3e1.jpg  \n",
            "  inflating: hymenoptera_data/train/bees/2405441001_b06c36fa72.jpg  \n",
            "  inflating: hymenoptera_data/train/bees/2445215254_51698ff797.jpg  \n",
            "  inflating: hymenoptera_data/train/bees/2452236943_255bfd9e58.jpg  \n",
            "  inflating: hymenoptera_data/train/bees/2467959963_a7831e9ff0.jpg  \n",
            "  inflating: hymenoptera_data/train/bees/2470492904_837e97800d.jpg  \n",
            "  inflating: hymenoptera_data/train/bees/2477324698_3d4b1b1cab.jpg  \n",
            "  inflating: hymenoptera_data/train/bees/2477349551_e75c97cf4d.jpg  \n",
            "  inflating: hymenoptera_data/train/bees/2486729079_62df0920be.jpg  \n",
            "  inflating: hymenoptera_data/train/bees/2486746709_c43cec0e42.jpg  \n",
            "  inflating: hymenoptera_data/train/bees/2493379287_4100e1dacc.jpg  \n",
            "  inflating: hymenoptera_data/train/bees/2495722465_879acf9d85.jpg  \n",
            "  inflating: hymenoptera_data/train/bees/2528444139_fa728b0f5b.jpg  \n",
            "  inflating: hymenoptera_data/train/bees/2538361678_9da84b77e3.jpg  \n",
            "  inflating: hymenoptera_data/train/bees/2551813042_8a070aeb2b.jpg  \n",
            "  inflating: hymenoptera_data/train/bees/2580598377_a4caecdb54.jpg  \n",
            "  inflating: hymenoptera_data/train/bees/2601176055_8464e6aa71.jpg  \n",
            "  inflating: hymenoptera_data/train/bees/2610833167_79bf0bcae5.jpg  \n",
            "  inflating: hymenoptera_data/train/bees/2610838525_fe8e3cae47.jpg  \n",
            "  inflating: hymenoptera_data/train/bees/2617161745_fa3ebe85b4.jpg  \n",
            "  inflating: hymenoptera_data/train/bees/2625499656_e3415e374d.jpg  \n",
            "  inflating: hymenoptera_data/train/bees/2634617358_f32fd16bea.jpg  \n",
            "  inflating: hymenoptera_data/train/bees/2638074627_6b3ae746a0.jpg  \n",
            "  inflating: hymenoptera_data/train/bees/2645107662_b73a8595cc.jpg  \n",
            "  inflating: hymenoptera_data/train/bees/2651621464_a2fa8722eb.jpg  \n",
            "  inflating: hymenoptera_data/train/bees/2652877533_a564830cbf.jpg  \n",
            "  inflating: hymenoptera_data/train/bees/266644509_d30bb16a1b.jpg  \n",
            "  inflating: hymenoptera_data/train/bees/2683605182_9d2a0c66cf.jpg  \n",
            "  inflating: hymenoptera_data/train/bees/2704348794_eb5d5178c2.jpg  \n",
            "  inflating: hymenoptera_data/train/bees/2707440199_cd170bd512.jpg  \n",
            "  inflating: hymenoptera_data/train/bees/2710368626_cb42882dc8.jpg  \n",
            "  inflating: hymenoptera_data/train/bees/2722592222_258d473e17.jpg  \n",
            "  inflating: hymenoptera_data/train/bees/2728759455_ce9bb8cd7a.jpg  \n",
            "  inflating: hymenoptera_data/train/bees/2756397428_1d82a08807.jpg  \n",
            "  inflating: hymenoptera_data/train/bees/2765347790_da6cf6cb40.jpg  \n",
            "  inflating: hymenoptera_data/train/bees/2781170484_5d61835d63.jpg  \n",
            "  inflating: hymenoptera_data/train/bees/279113587_b4843db199.jpg  \n",
            "  inflating: hymenoptera_data/train/bees/2792000093_e8ae0718cf.jpg  \n",
            "  inflating: hymenoptera_data/train/bees/2801728106_833798c909.jpg  \n",
            "  inflating: hymenoptera_data/train/bees/2822388965_f6dca2a275.jpg  \n",
            "  inflating: hymenoptera_data/train/bees/2861002136_52c7c6f708.jpg  \n",
            "  inflating: hymenoptera_data/train/bees/2908916142_a7ac8b57a8.jpg  \n",
            "  inflating: hymenoptera_data/train/bees/29494643_e3410f0d37.jpg  \n",
            "  inflating: hymenoptera_data/train/bees/2959730355_416a18c63c.jpg  \n",
            "  inflating: hymenoptera_data/train/bees/2962405283_22718d9617.jpg  \n",
            "  inflating: hymenoptera_data/train/bees/3006264892_30e9cced70.jpg  \n",
            "  inflating: hymenoptera_data/train/bees/3030189811_01d095b793.jpg  \n",
            "  inflating: hymenoptera_data/train/bees/3030772428_8578335616.jpg  \n",
            "  inflating: hymenoptera_data/train/bees/3044402684_3853071a87.jpg  \n",
            "  inflating: hymenoptera_data/train/bees/3074585407_9854eb3153.jpg  \n",
            "  inflating: hymenoptera_data/train/bees/3079610310_ac2d0ae7bc.jpg  \n",
            "  inflating: hymenoptera_data/train/bees/3090975720_71f12e6de4.jpg  \n",
            "  inflating: hymenoptera_data/train/bees/3100226504_c0d4f1e3f1.jpg  \n",
            "  inflating: hymenoptera_data/train/bees/342758693_c56b89b6b6.jpg  \n",
            "  inflating: hymenoptera_data/train/bees/354167719_22dca13752.jpg  \n",
            "  inflating: hymenoptera_data/train/bees/359928878_b3b418c728.jpg  \n",
            "  inflating: hymenoptera_data/train/bees/365759866_b15700c59b.jpg  \n",
            "  inflating: hymenoptera_data/train/bees/36900412_92b81831ad.jpg  \n",
            "  inflating: hymenoptera_data/train/bees/39672681_1302d204d1.jpg  \n",
            "  inflating: hymenoptera_data/train/bees/39747887_42df2855ee.jpg  \n",
            "  inflating: hymenoptera_data/train/bees/421515404_e87569fd8b.jpg  \n",
            "  inflating: hymenoptera_data/train/bees/444532809_9e931e2279.jpg  \n",
            "  inflating: hymenoptera_data/train/bees/446296270_d9e8b93ecf.jpg  \n",
            "  inflating: hymenoptera_data/train/bees/452462677_7be43af8ff.jpg  \n",
            "  inflating: hymenoptera_data/train/bees/452462695_40a4e5b559.jpg  \n",
            "  inflating: hymenoptera_data/train/bees/457457145_5f86eb7e9c.jpg  \n",
            "  inflating: hymenoptera_data/train/bees/465133211_80e0c27f60.jpg  \n",
            "  inflating: hymenoptera_data/train/bees/469333327_358ba8fe8a.jpg  \n",
            "  inflating: hymenoptera_data/train/bees/472288710_2abee16fa0.jpg  \n",
            "  inflating: hymenoptera_data/train/bees/473618094_8ffdcab215.jpg  \n",
            "  inflating: hymenoptera_data/train/bees/476347960_52edd72b06.jpg  \n",
            "  inflating: hymenoptera_data/train/bees/478701318_bbd5e557b8.jpg  \n",
            "  inflating: hymenoptera_data/train/bees/507288830_f46e8d4cb2.jpg  \n",
            "  inflating: hymenoptera_data/train/bees/509247772_2db2d01374.jpg  \n",
            "  inflating: hymenoptera_data/train/bees/513545352_fd3e7c7c5d.jpg  \n",
            "  inflating: hymenoptera_data/train/bees/522104315_5d3cb2758e.jpg  \n",
            "  inflating: hymenoptera_data/train/bees/537309131_532bfa59ea.jpg  \n",
            "  inflating: hymenoptera_data/train/bees/586041248_3032e277a9.jpg  \n",
            "  inflating: hymenoptera_data/train/bees/760526046_547e8b381f.jpg  \n",
            "  inflating: hymenoptera_data/train/bees/760568592_45a52c847f.jpg  \n",
            "  inflating: hymenoptera_data/train/bees/774440991_63a4aa0cbe.jpg  \n",
            "  inflating: hymenoptera_data/train/bees/85112639_6e860b0469.jpg  \n",
            "  inflating: hymenoptera_data/train/bees/873076652_eb098dab2d.jpg  \n",
            "  inflating: hymenoptera_data/train/bees/90179376_abc234e5f4.jpg  \n",
            "  inflating: hymenoptera_data/train/bees/92663402_37f379e57a.jpg  \n",
            "  inflating: hymenoptera_data/train/bees/95238259_98470c5b10.jpg  \n",
            "  inflating: hymenoptera_data/train/bees/969455125_58c797ef17.jpg  \n",
            "  inflating: hymenoptera_data/train/bees/98391118_bdb1e80cce.jpg  \n",
            "   creating: hymenoptera_data/val/\n",
            "   creating: hymenoptera_data/val/ants/\n",
            "  inflating: hymenoptera_data/val/ants/10308379_1b6c72e180.jpg  \n",
            "  inflating: hymenoptera_data/val/ants/1053149811_f62a3410d3.jpg  \n",
            "  inflating: hymenoptera_data/val/ants/1073564163_225a64f170.jpg  \n",
            "  inflating: hymenoptera_data/val/ants/1119630822_cd325ea21a.jpg  \n",
            "  inflating: hymenoptera_data/val/ants/1124525276_816a07c17f.jpg  \n",
            "  inflating: hymenoptera_data/val/ants/11381045_b352a47d8c.jpg  \n",
            "  inflating: hymenoptera_data/val/ants/119785936_dd428e40c3.jpg  \n",
            "  inflating: hymenoptera_data/val/ants/1247887232_edcb61246c.jpg  \n",
            "  inflating: hymenoptera_data/val/ants/1262751255_c56c042b7b.jpg  \n",
            "  inflating: hymenoptera_data/val/ants/1337725712_2eb53cd742.jpg  \n",
            "  inflating: hymenoptera_data/val/ants/1358854066_5ad8015f7f.jpg  \n",
            "  inflating: hymenoptera_data/val/ants/1440002809_b268d9a66a.jpg  \n",
            "  inflating: hymenoptera_data/val/ants/147542264_79506478c2.jpg  \n",
            "  inflating: hymenoptera_data/val/ants/152286280_411648ec27.jpg  \n",
            "  inflating: hymenoptera_data/val/ants/153320619_2aeb5fa0ee.jpg  \n",
            "  inflating: hymenoptera_data/val/ants/153783656_85f9c3ac70.jpg  \n",
            "  inflating: hymenoptera_data/val/ants/157401988_d0564a9d02.jpg  \n",
            "  inflating: hymenoptera_data/val/ants/159515240_d5981e20d1.jpg  \n",
            "  inflating: hymenoptera_data/val/ants/161076144_124db762d6.jpg  \n",
            "  inflating: hymenoptera_data/val/ants/161292361_c16e0bf57a.jpg  \n",
            "  inflating: hymenoptera_data/val/ants/170652283_ecdaff5d1a.jpg  \n",
            "  inflating: hymenoptera_data/val/ants/17081114_79b9a27724.jpg  \n",
            "  inflating: hymenoptera_data/val/ants/172772109_d0a8e15fb0.jpg  \n",
            "  inflating: hymenoptera_data/val/ants/1743840368_b5ccda82b7.jpg  \n",
            "  inflating: hymenoptera_data/val/ants/181942028_961261ef48.jpg  \n",
            "  inflating: hymenoptera_data/val/ants/183260961_64ab754c97.jpg  \n",
            "  inflating: hymenoptera_data/val/ants/2039585088_c6f47c592e.jpg  \n",
            "  inflating: hymenoptera_data/val/ants/205398178_c395c5e460.jpg  \n",
            "  inflating: hymenoptera_data/val/ants/208072188_f293096296.jpg  \n",
            "  inflating: hymenoptera_data/val/ants/209615353_eeb38ba204.jpg  \n",
            "  inflating: hymenoptera_data/val/ants/2104709400_8831b4fc6f.jpg  \n",
            "  inflating: hymenoptera_data/val/ants/212100470_b485e7b7b9.jpg  \n",
            "  inflating: hymenoptera_data/val/ants/2127908701_d49dc83c97.jpg  \n",
            "  inflating: hymenoptera_data/val/ants/2191997003_379df31291.jpg  \n",
            "  inflating: hymenoptera_data/val/ants/2211974567_ee4606b493.jpg  \n",
            "  inflating: hymenoptera_data/val/ants/2219621907_47bc7cc6b0.jpg  \n",
            "  inflating: hymenoptera_data/val/ants/2238242353_52c82441df.jpg  \n",
            "  inflating: hymenoptera_data/val/ants/2255445811_dabcdf7258.jpg  \n",
            "  inflating: hymenoptera_data/val/ants/239161491_86ac23b0a3.jpg  \n",
            "  inflating: hymenoptera_data/val/ants/263615709_cfb28f6b8e.jpg  \n",
            "  inflating: hymenoptera_data/val/ants/308196310_1db5ffa01b.jpg  \n",
            "  inflating: hymenoptera_data/val/ants/319494379_648fb5a1c6.jpg  \n",
            "  inflating: hymenoptera_data/val/ants/35558229_1fa4608a7a.jpg  \n",
            "  inflating: hymenoptera_data/val/ants/412436937_4c2378efc2.jpg  \n",
            "  inflating: hymenoptera_data/val/ants/436944325_d4925a38c7.jpg  \n",
            "  inflating: hymenoptera_data/val/ants/445356866_6cb3289067.jpg  \n",
            "  inflating: hymenoptera_data/val/ants/459442412_412fecf3fe.jpg  \n",
            "  inflating: hymenoptera_data/val/ants/470127071_8b8ee2bd74.jpg  \n",
            "  inflating: hymenoptera_data/val/ants/477437164_bc3e6e594a.jpg  \n",
            "  inflating: hymenoptera_data/val/ants/488272201_c5aa281348.jpg  \n",
            "  inflating: hymenoptera_data/val/ants/502717153_3e4865621a.jpg  \n",
            "  inflating: hymenoptera_data/val/ants/518746016_bcc28f8b5b.jpg  \n",
            "  inflating: hymenoptera_data/val/ants/540543309_ddbb193ee5.jpg  \n",
            "  inflating: hymenoptera_data/val/ants/562589509_7e55469b97.jpg  \n",
            "  inflating: hymenoptera_data/val/ants/57264437_a19006872f.jpg  \n",
            "  inflating: hymenoptera_data/val/ants/573151833_ebbc274b77.jpg  \n",
            "  inflating: hymenoptera_data/val/ants/649407494_9b6bc4949f.jpg  \n",
            "  inflating: hymenoptera_data/val/ants/751649788_78dd7d16ce.jpg  \n",
            "  inflating: hymenoptera_data/val/ants/768870506_8f115d3d37.jpg  \n",
            "  inflating: hymenoptera_data/val/ants/800px-Meat_eater_ant_qeen_excavating_hole.jpg  \n",
            "  inflating: hymenoptera_data/val/ants/8124241_36b290d372.jpg  \n",
            "  inflating: hymenoptera_data/val/ants/8398478_50ef10c47a.jpg  \n",
            "  inflating: hymenoptera_data/val/ants/854534770_31f6156383.jpg  \n",
            "  inflating: hymenoptera_data/val/ants/892676922_4ab37dce07.jpg  \n",
            "  inflating: hymenoptera_data/val/ants/94999827_36895faade.jpg  \n",
            "  inflating: hymenoptera_data/val/ants/Ant-1818.jpg  \n",
            "  inflating: hymenoptera_data/val/ants/ants-devouring-remains-of-large-dead-insect-on-red-tile-in-Stellenbosch-South-Africa-closeup-1-DHD.jpg  \n",
            "  inflating: hymenoptera_data/val/ants/desert_ant.jpg  \n",
            "  inflating: hymenoptera_data/val/ants/F.pergan.28(f).jpg  \n",
            "  inflating: hymenoptera_data/val/ants/Hormiga.jpg  \n",
            "   creating: hymenoptera_data/val/bees/\n",
            "  inflating: hymenoptera_data/val/bees/1032546534_06907fe3b3.jpg  \n",
            "  inflating: hymenoptera_data/val/bees/10870992_eebeeb3a12.jpg  \n",
            "  inflating: hymenoptera_data/val/bees/1181173278_23c36fac71.jpg  \n",
            "  inflating: hymenoptera_data/val/bees/1297972485_33266a18d9.jpg  \n",
            "  inflating: hymenoptera_data/val/bees/1328423762_f7a88a8451.jpg  \n",
            "  inflating: hymenoptera_data/val/bees/1355974687_1341c1face.jpg  \n",
            "  inflating: hymenoptera_data/val/bees/144098310_a4176fd54d.jpg  \n",
            "  inflating: hymenoptera_data/val/bees/1486120850_490388f84b.jpg  \n",
            "  inflating: hymenoptera_data/val/bees/149973093_da3c446268.jpg  \n",
            "  inflating: hymenoptera_data/val/bees/151594775_ee7dc17b60.jpg  \n",
            "  inflating: hymenoptera_data/val/bees/151603988_2c6f7d14c7.jpg  \n",
            "  inflating: hymenoptera_data/val/bees/1519368889_4270261ee3.jpg  \n",
            "  inflating: hymenoptera_data/val/bees/152789693_220b003452.jpg  \n",
            "  inflating: hymenoptera_data/val/bees/177677657_a38c97e572.jpg  \n",
            "  inflating: hymenoptera_data/val/bees/1799729694_0c40101071.jpg  \n",
            "  inflating: hymenoptera_data/val/bees/181171681_c5a1a82ded.jpg  \n",
            "  inflating: hymenoptera_data/val/bees/187130242_4593a4c610.jpg  \n",
            "  inflating: hymenoptera_data/val/bees/203868383_0fcbb48278.jpg  \n",
            "  inflating: hymenoptera_data/val/bees/2060668999_e11edb10d0.jpg  \n",
            "  inflating: hymenoptera_data/val/bees/2086294791_6f3789d8a6.jpg  \n",
            "  inflating: hymenoptera_data/val/bees/2103637821_8d26ee6b90.jpg  \n",
            "  inflating: hymenoptera_data/val/bees/2104135106_a65eede1de.jpg  \n",
            "  inflating: hymenoptera_data/val/bees/215512424_687e1e0821.jpg  \n",
            "  inflating: hymenoptera_data/val/bees/2173503984_9c6aaaa7e2.jpg  \n",
            "  inflating: hymenoptera_data/val/bees/220376539_20567395d8.jpg  \n",
            "  inflating: hymenoptera_data/val/bees/224841383_d050f5f510.jpg  \n",
            "  inflating: hymenoptera_data/val/bees/2321144482_f3785ba7b2.jpg  \n",
            "  inflating: hymenoptera_data/val/bees/238161922_55fa9a76ae.jpg  \n",
            "  inflating: hymenoptera_data/val/bees/2407809945_fb525ef54d.jpg  \n",
            "  inflating: hymenoptera_data/val/bees/2415414155_1916f03b42.jpg  \n",
            "  inflating: hymenoptera_data/val/bees/2438480600_40a1249879.jpg  \n",
            "  inflating: hymenoptera_data/val/bees/2444778727_4b781ac424.jpg  \n",
            "  inflating: hymenoptera_data/val/bees/2457841282_7867f16639.jpg  \n",
            "  inflating: hymenoptera_data/val/bees/2470492902_3572c90f75.jpg  \n",
            "  inflating: hymenoptera_data/val/bees/2478216347_535c8fe6d7.jpg  \n",
            "  inflating: hymenoptera_data/val/bees/2501530886_e20952b97d.jpg  \n",
            "  inflating: hymenoptera_data/val/bees/2506114833_90a41c5267.jpg  \n",
            "  inflating: hymenoptera_data/val/bees/2509402554_31821cb0b6.jpg  \n",
            "  inflating: hymenoptera_data/val/bees/2525379273_dcb26a516d.jpg  \n",
            "  inflating: hymenoptera_data/val/bees/26589803_5ba7000313.jpg  \n",
            "  inflating: hymenoptera_data/val/bees/2668391343_45e272cd07.jpg  \n",
            "  inflating: hymenoptera_data/val/bees/2670536155_c170f49cd0.jpg  \n",
            "  inflating: hymenoptera_data/val/bees/2685605303_9eed79d59d.jpg  \n",
            "  inflating: hymenoptera_data/val/bees/2702408468_d9ed795f4f.jpg  \n",
            "  inflating: hymenoptera_data/val/bees/2709775832_85b4b50a57.jpg  \n",
            "  inflating: hymenoptera_data/val/bees/2717418782_bd83307d9f.jpg  \n",
            "  inflating: hymenoptera_data/val/bees/272986700_d4d4bf8c4b.jpg  \n",
            "  inflating: hymenoptera_data/val/bees/2741763055_9a7bb00802.jpg  \n",
            "  inflating: hymenoptera_data/val/bees/2745389517_250a397f31.jpg  \n",
            "  inflating: hymenoptera_data/val/bees/2751836205_6f7b5eff30.jpg  \n",
            "  inflating: hymenoptera_data/val/bees/2782079948_8d4e94a826.jpg  \n",
            "  inflating: hymenoptera_data/val/bees/2809496124_5f25b5946a.jpg  \n",
            "  inflating: hymenoptera_data/val/bees/2815838190_0a9889d995.jpg  \n",
            "  inflating: hymenoptera_data/val/bees/2841437312_789699c740.jpg  \n",
            "  inflating: hymenoptera_data/val/bees/2883093452_7e3a1eb53f.jpg  \n",
            "  inflating: hymenoptera_data/val/bees/290082189_f66cb80bfc.jpg  \n",
            "  inflating: hymenoptera_data/val/bees/296565463_d07a7bed96.jpg  \n",
            "  inflating: hymenoptera_data/val/bees/3077452620_548c79fda0.jpg  \n",
            "  inflating: hymenoptera_data/val/bees/348291597_ee836fbb1a.jpg  \n",
            "  inflating: hymenoptera_data/val/bees/350436573_41f4ecb6c8.jpg  \n",
            "  inflating: hymenoptera_data/val/bees/353266603_d3eac7e9a0.jpg  \n",
            "  inflating: hymenoptera_data/val/bees/372228424_16da1f8884.jpg  \n",
            "  inflating: hymenoptera_data/val/bees/400262091_701c00031c.jpg  \n",
            "  inflating: hymenoptera_data/val/bees/416144384_961c326481.jpg  \n",
            "  inflating: hymenoptera_data/val/bees/44105569_16720a960c.jpg  \n",
            "  inflating: hymenoptera_data/val/bees/456097971_860949c4fc.jpg  \n",
            "  inflating: hymenoptera_data/val/bees/464594019_1b24a28bb1.jpg  \n",
            "  inflating: hymenoptera_data/val/bees/485743562_d8cc6b8f73.jpg  \n",
            "  inflating: hymenoptera_data/val/bees/540976476_844950623f.jpg  \n",
            "  inflating: hymenoptera_data/val/bees/54736755_c057723f64.jpg  \n",
            "  inflating: hymenoptera_data/val/bees/57459255_752774f1b2.jpg  \n",
            "  inflating: hymenoptera_data/val/bees/576452297_897023f002.jpg  \n",
            "  inflating: hymenoptera_data/val/bees/586474709_ae436da045.jpg  \n",
            "  inflating: hymenoptera_data/val/bees/590318879_68cf112861.jpg  \n",
            "  inflating: hymenoptera_data/val/bees/59798110_2b6a3c8031.jpg  \n",
            "  inflating: hymenoptera_data/val/bees/603709866_a97c7cfc72.jpg  \n",
            "  inflating: hymenoptera_data/val/bees/603711658_4c8cd2201e.jpg  \n",
            "  inflating: hymenoptera_data/val/bees/65038344_52a45d090d.jpg  \n",
            "  inflating: hymenoptera_data/val/bees/6a00d8341c630a53ef00e553d0beb18834-800wi.jpg  \n",
            "  inflating: hymenoptera_data/val/bees/72100438_73de9f17af.jpg  \n",
            "  inflating: hymenoptera_data/val/bees/759745145_e8bc776ec8.jpg  \n",
            "  inflating: hymenoptera_data/val/bees/936182217_c4caa5222d.jpg  \n",
            "  inflating: hymenoptera_data/val/bees/abeja.jpg  \n"
          ]
        }
      ]
    },
    {
      "cell_type": "code",
      "source": [
        "data_transforms = {\n",
        "    'train': transforms.Compose([\n",
        "        transforms.RandomResizedCrop(224),\n",
        "        transforms.RandomHorizontalFlip(),\n",
        "        transforms.ToTensor(),\n",
        "        transforms.Normalize([0.455, 0.465, 0.406], [0.239, 0.234, 0.225])\n",
        "    ]),\n",
        "    'val': transforms.Compose([\n",
        "        transforms.Resize(256),\n",
        "        transforms.CenterCrop(224),\n",
        "        transforms.ToTensor(),\n",
        "        transforms.Normalize([0.455, 0.465, 0.406], [0.239, 0.234, 0.225])\n",
        "    ]),\n",
        "}\n",
        "\n",
        "data_dir = 'hymenoptera_data'\n",
        "image_datasets = {x: datasets.ImageFolder(os.path.join(data_dir, x),\n",
        "                                          data_transforms[x])\n",
        "                  for x in ['train', 'val']}\n",
        "dataloaders = {x: torch.utils.data.DataLoader(image_datasets[x], batch_size=4,\n",
        "                                             shuffle=True, num_workers=4)\n",
        "              for x in ['train', 'val']}\n",
        "dataset_sizes = {x: len(image_datasets[x]) for x in ['train', 'val']}\n",
        "class_names = image_datasets['train'].classes\n",
        "\n",
        "device = torch.device(\"cuda:0\" if torch.cuda.is_available() else \"cpu\")"
      ],
      "metadata": {
        "colab": {
          "base_uri": "https://localhost:8080/",
          "height": 0
        },
        "id": "-P0_VOMbjZz2",
        "outputId": "1372779a-d575-4939-bb0b-ffce1e6e8531"
      },
      "execution_count": 13,
      "outputs": [
        {
          "output_type": "stream",
          "name": "stderr",
          "text": [
            "/usr/local/lib/python3.7/dist-packages/torch/utils/data/dataloader.py:481: UserWarning: This DataLoader will create 4 worker processes in total. Our suggested max number of worker in current system is 2, which is smaller than what this DataLoader is going to create. Please be aware that excessive worker creation might get DataLoader running slow or even freeze, lower the worker number to avoid potential slowness/freeze if necessary.\n",
            "  cpuset_checked))\n"
          ]
        }
      ]
    },
    {
      "cell_type": "code",
      "source": [
        "def imshow(inp, title=None):\n",
        "    \"\"\"Imshow for Tensor.\"\"\"\n",
        "    inp = inp.numpy().transpose((1, 2, 0))\n",
        "    mean = np.array([0.455, 0.465, 0.406])\n",
        "    std = np.array([0.239, 0.234, 0.225])\n",
        "    inp = std * inp + mean\n",
        "    inp = np.clip(inp, 0, 1)\n",
        "    plt.imshow(inp)\n",
        "    if title is not None:\n",
        "        plt.title(title)\n",
        "    plt.pause(0.001)  \n",
        "\n",
        "\n",
        "# Get a batch of training data\n",
        "inputs, classes = next(iter(dataloaders['train']))\n",
        "\n",
        "# Make a grid from batch\n",
        "out = torchvision.utils.make_grid(inputs)\n",
        "\n",
        "imshow(out, title=[class_names[x] for x in classes])"
      ],
      "metadata": {
        "colab": {
          "base_uri": "https://localhost:8080/",
          "height": 203
        },
        "id": "K3AdsGzbjgLb",
        "outputId": "3ec024a2-a492-4cd2-c47a-d9f7ab910ccd"
      },
      "execution_count": 14,
      "outputs": [
        {
          "output_type": "stream",
          "name": "stderr",
          "text": [
            "/usr/local/lib/python3.7/dist-packages/torch/utils/data/dataloader.py:481: UserWarning: This DataLoader will create 4 worker processes in total. Our suggested max number of worker in current system is 2, which is smaller than what this DataLoader is going to create. Please be aware that excessive worker creation might get DataLoader running slow or even freeze, lower the worker number to avoid potential slowness/freeze if necessary.\n",
            "  cpuset_checked))\n"
          ]
        },
        {
          "output_type": "display_data",
          "data": {
            "image/png": "[encoded data removed]",
            "text/plain": [
              "<Figure size 432x288 with 1 Axes>"
            ]
          },
          "metadata": {
            "needs_background": "light"
          }
        }
      ]
    },
    {
      "cell_type": "code",
      "source": [
        "def train_model(model, criterion, optimizer, scheduler, num_epochs=24):\n",
        "    since = time.time()\n",
        "\n",
        "    best_model_wts = copy.deepcopy(model.state_dict())\n",
        "    best_acc = 0.0\n",
        "\n",
        "    for epoch in range(num_epochs):\n",
        "        print('Epoch {}/{}'.format(epoch, num_epochs - 1))\n",
        "        print('-' * 10)\n",
        "\n",
        "        # Each epoch has a training and validation phase\n",
        "        for phase in ['train', 'val']:\n",
        "            if phase == 'train':\n",
        "                model.train()  # Set model to training mode\n",
        "            else:\n",
        "                model.eval()   # Set model to evaluate mode\n",
        "\n",
        "            running_loss = 0.0\n",
        "            running_corrects = 0\n",
        "\n",
        "            # Iterate over data.\n",
        "            for inputs, labels in dataloaders[phase]:\n",
        "                inputs = inputs.to(device)\n",
        "                labels = labels.to(device)\n",
        "\n",
        "                # zero the parameter gradients\n",
        "                optimizer.zero_grad()\n",
        "\n",
        "                # forward\n",
        "                # track history if only in train\n",
        "                with torch.set_grad_enabled(phase == 'train'):\n",
        "                    outputs = model(inputs)\n",
        "                    _, preds = torch.max(outputs, 1)\n",
        "                    loss = criterion(outputs, labels)\n",
        "\n",
        "                    # backward + optimize only if in training phase\n",
        "                    if phase == 'train':\n",
        "                        loss.backward()\n",
        "                        optimizer.step()\n",
        "\n",
        "                # statistics\n",
        "                running_loss += loss.item() * inputs.size(0)\n",
        "                running_corrects += torch.sum(preds == labels.data)\n",
        "            if phase == 'train':\n",
        "                scheduler.step()\n",
        "\n",
        "            epoch_loss = running_loss / dataset_sizes[phase]\n",
        "            epoch_acc = running_corrects.double() / dataset_sizes[phase]\n",
        "\n",
        "            print('{} Loss: {:.4f} Acc: {:.4f}'.format(\n",
        "                phase, epoch_loss, epoch_acc))\n",
        "\n",
        "            # deep copy the model\n",
        "            if phase == 'val' and epoch_acc > best_acc:\n",
        "                best_acc = epoch_acc\n",
        "                best_model_wts = copy.deepcopy(model.state_dict())\n",
        "\n",
        "        print()\n",
        "\n",
        "    time_elapsed = time.time() - since\n",
        "    print('Training complete in {:.0f}m {:.0f}s'.format(\n",
        "        time_elapsed // 60, time_elapsed % 60))\n",
        "    print('Best val Acc: {:4f}'.format(best_acc))\n",
        "\n",
        "    # load best model weights\n",
        "    model.load_state_dict(best_model_wts)\n",
        "    return model"
      ],
      "metadata": {
        "id": "7fMseg5Jjjxt"
      },
      "execution_count": 15,
      "outputs": []
    },
    {
      "cell_type": "code",
      "source": [
        "def visualize_model(model, num_images=6):\n",
        "    was_training = model.training\n",
        "    model.eval()\n",
        "    images_so_far = 0\n",
        "    fig = plt.figure()\n",
        "\n",
        "    with torch.no_grad():\n",
        "        for i, (inputs, labels) in enumerate(dataloaders['val']):\n",
        "            inputs = inputs.to(device)\n",
        "            labels = labels.to(device)\n",
        "\n",
        "            outputs = model(inputs)\n",
        "            _, preds = torch.max(outputs, 1)\n",
        "\n",
        "            for j in range(inputs.size()[0]):\n",
        "                images_so_far += 1\n",
        "                ax = plt.subplot(num_images//2, 2, images_so_far)\n",
        "                ax.axis('off')\n",
        "                ax.set_title('predicted: {}'.format(class_names[preds[j]]))\n",
        "                imshow(inputs.cpu().data[j])\n",
        "\n",
        "                if images_so_far == num_images:\n",
        "                    model.train(mode=was_training)\n",
        "                    return\n",
        "        model.train(mode=was_training)"
      ],
      "metadata": {
        "id": "7zUNbLbZjp4d"
      },
      "execution_count": 16,
      "outputs": []
    },
    {
      "cell_type": "code",
      "source": [
        "model_conv = torchvision.models.resnet18(pretrained=True)\n",
        "for param in model_conv.parameters():\n",
        "    param.requires_grad = False\n",
        "\n",
        "# Parameters of newly constructed modules have requires_grad=True by default\n",
        "num_ftrs = model_conv.fc.in_features\n",
        "model_conv.fc = nn.Linear(num_ftrs, 2)\n",
        "\n",
        "model_conv = model_conv.to(device)\n",
        "\n",
        "criterion = nn.CrossEntropyLoss()\n",
        "\n",
        "optimizer_conv = optim.SGD(model_conv.fc.parameters(), lr=0.001, momentum=0.9)\n",
        "\n",
        "exp_lr_scheduler = lr_scheduler.StepLR(optimizer_conv, step_size=7, gamma=0.1)"
      ],
      "metadata": {
        "colab": {
          "base_uri": "https://localhost:8080/",
          "height": 67,
          "referenced_widgets": [
            "ac7dd484eabd4da5b5b9755ed01805d4",
            "b1004002de364983b225bd27323768b5",
            "fe5601ea553d486696d375b1acdf8928",
            "eceeedbc51744841bcb42f45748b1584",
            "0c1fa04af5144e59b5c3bb6987249971",
            "7c2dd68603f9409bb5dcb86fe9b7e38a",
            "cbb1d96d1b234d77ab9f67caa6e6c938",
            "a78f36de08ad4593a13416823b4c6719",
            "3e53780201d14e27b425300fb35469d7",
            "c626b2981e5b49fda60f47c37dbb011c",
            "0b91026ff814463ebab8f0cd45f90b01"
          ]
        },
        "id": "ywOP0OLqjsyl",
        "outputId": "02970ea7-28ed-4eb2-dff9-70e8d94a16bf"
      },
      "execution_count": 17,
      "outputs": [
        {
          "output_type": "stream",
          "name": "stderr",
          "text": [
            "Downloading: \"https://download.pytorch.org/models/resnet18-f37072fd.pth\" to /root/.cache/torch/hub/checkpoints/resnet18-f37072fd.pth\n"
          ]
        },
        {
          "output_type": "display_data",
          "data": {
            "application/vnd.jupyter.widget-view+json": {
              "model_id": "ac7dd484eabd4da5b5b9755ed01805d4",
              "version_minor": 0,
              "version_major": 2
            },
            "text/plain": [
              "  0%|          | 0.00/44.7M [00:00<?, ?B/s]"
            ]
          },
          "metadata": {}
        }
      ]
    },
    {
      "cell_type": "code",
      "source": [
        "model_conv = train_model(model_conv, criterion, optimizer_conv,\n",
        "                         exp_lr_scheduler, num_epochs=10)"
      ],
      "metadata": {
        "colab": {
          "base_uri": "https://localhost:8080/",
          "height": 0
        },
        "id": "_PdDwXjij1Qr",
        "outputId": "757a7e71-19ac-4ac5-811b-7f73156fd62a"
      },
      "execution_count": 18,
      "outputs": [
        {
          "output_type": "stream",
          "name": "stdout",
          "text": [
            "Epoch 0/9\n",
            "----------\n"
          ]
        },
        {
          "output_type": "stream",
          "name": "stderr",
          "text": [
            "/usr/local/lib/python3.7/dist-packages/torch/utils/data/dataloader.py:481: UserWarning: This DataLoader will create 4 worker processes in total. Our suggested max number of worker in current system is 2, which is smaller than what this DataLoader is going to create. Please be aware that excessive worker creation might get DataLoader running slow or even freeze, lower the worker number to avoid potential slowness/freeze if necessary.\n",
            "  cpuset_checked))\n"
          ]
        },
        {
          "output_type": "stream",
          "name": "stdout",
          "text": [
            "train Loss: 0.5269 Acc: 0.7172\n",
            "val Loss: 0.2585 Acc: 0.9216\n",
            "\n",
            "Epoch 1/9\n",
            "----------\n",
            "train Loss: 0.4021 Acc: 0.8402\n",
            "val Loss: 0.2432 Acc: 0.9216\n",
            "\n",
            "Epoch 2/9\n",
            "----------\n",
            "train Loss: 0.5028 Acc: 0.8074\n",
            "val Loss: 0.3285 Acc: 0.8824\n",
            "\n",
            "Epoch 3/9\n",
            "----------\n",
            "train Loss: 0.4966 Acc: 0.7869\n",
            "val Loss: 0.1779 Acc: 0.9542\n",
            "\n",
            "Epoch 4/9\n",
            "----------\n",
            "train Loss: 0.3980 Acc: 0.8156\n",
            "val Loss: 0.2078 Acc: 0.9346\n",
            "\n",
            "Epoch 5/9\n",
            "----------\n",
            "train Loss: 0.4130 Acc: 0.8320\n",
            "val Loss: 0.1748 Acc: 0.9477\n",
            "\n",
            "Epoch 6/9\n",
            "----------\n",
            "train Loss: 0.4847 Acc: 0.8197\n",
            "val Loss: 0.1665 Acc: 0.9412\n",
            "\n",
            "Epoch 7/9\n",
            "----------\n",
            "train Loss: 0.4297 Acc: 0.8074\n",
            "val Loss: 0.1739 Acc: 0.9281\n",
            "\n",
            "Epoch 8/9\n",
            "----------\n",
            "train Loss: 0.3558 Acc: 0.8730\n",
            "val Loss: 0.1754 Acc: 0.9346\n",
            "\n",
            "Epoch 9/9\n",
            "----------\n",
            "train Loss: 0.3152 Acc: 0.8525\n",
            "val Loss: 0.1731 Acc: 0.9346\n",
            "\n",
            "Training complete in 0m 45s\n",
            "Best val Acc: 0.954248\n"
          ]
        }
      ]
    },
    {
      "cell_type": "code",
      "source": [
        "visualize_model(model_conv)\n",
        "\n",
        "plt.ioff()\n",
        "plt.show()"
      ],
      "metadata": {
        "colab": {
          "base_uri": "https://localhost:8080/",
          "height": 636
        },
        "id": "a8c7QQmHj5YX",
        "outputId": "f46ac280-2b28-4727-c1ec-24cfd7bbb4a2"
      },
      "execution_count": 19,
      "outputs": [
        {
          "output_type": "stream",
          "name": "stderr",
          "text": [
            "/usr/local/lib/python3.7/dist-packages/torch/utils/data/dataloader.py:481: UserWarning: This DataLoader will create 4 worker processes in total. Our suggested max number of worker in current system is 2, which is smaller than what this DataLoader is going to create. Please be aware that excessive worker creation might get DataLoader running slow or even freeze, lower the worker number to avoid potential slowness/freeze if necessary.\n",
            "  cpuset_checked))\n"
          ]
        },
        {
          "output_type": "display_data",
          "data": {
            "image/png": "[encoded data removed]",
            "text/plain": [
              "<Figure size 432x288 with 1 Axes>"
            ]
          },
          "metadata": {
            "needs_background": "light"
          }
        },
        {
          "output_type": "display_data",
          "data": {
            "image/png": "[encoded data removed]",
            "text/plain": [
              "<Figure size 432x288 with 1 Axes>"
            ]
          },
          "metadata": {
            "needs_background": "light"
          }
        },
        {
          "output_type": "display_data",
          "data": {
            "image/png": "[encoded data removed]",
            "text/plain": [
              "<Figure size 432x288 with 1 Axes>"
            ]
          },
          "metadata": {
            "needs_background": "light"
          }
        },
        {
          "output_type": "display_data",
          "data": {
            "image/png": "[encoded data removed]",
            "text/plain": [
              "<Figure size 432x288 with 1 Axes>"
            ]
          },
          "metadata": {
            "needs_background": "light"
          }
        },
        {
          "output_type": "display_data",
          "data": {
            "image/png": "[encoded data removed]",
            "text/plain": [
              "<Figure size 432x288 with 1 Axes>"
            ]
          },
          "metadata": {
            "needs_background": "light"
          }
        },
        {
          "output_type": "display_data",
          "data": {
            "image/png": "[encoded data removed]",
            "text/plain": [
              "<Figure size 432x288 with 1 Axes>"
            ]
          },
          "metadata": {
            "needs_background": "light"
          }
        }
      ]
    },
    {
      "cell_type": "markdown",
      "source": [
        "**Q.4** Use gradCAM to visualise intermediate activations in a model"
      ],
      "metadata": {
        "id": "vDZHlyZflu-7"
      }
    },
    {
      "cell_type": "code",
      "source": [
        "!git clone https://github.com/yaleCat/Grad-CAM-pytorch.git\n",
        "!mv Grad-CAM-pytorch/assets/ /content/\n",
        "!mv Grad-CAM-pytorch/grad_cam.py /content/\n",
        "!rm -rf Grad-CAM-pytorch/\n",
        "!pip install --upgrade efficientnet-pytorch"
      ],
      "metadata": {
        "colab": {
          "base_uri": "https://localhost:8080/",
          "height": 0
        },
        "id": "o8Vekie4lhIW",
        "outputId": "aca08a94-21b6-4d0e-f0d1-a924c28e9cf2"
      },
      "execution_count": 20,
      "outputs": [
        {
          "output_type": "stream",
          "name": "stdout",
          "text": [
            "Cloning into 'Grad-CAM-pytorch'...\n",
            "remote: Enumerating objects: 30, done.\u001b[K\n",
            "remote: Counting objects: 100% (30/30), done.\u001b[K\n",
            "remote: Compressing objects: 100% (30/30), done.\u001b[K\n",
            "remote: Total 30 (delta 2), reused 23 (delta 0), pack-reused 0\u001b[K\n",
            "Unpacking objects: 100% (30/30), done.\n",
            "Collecting efficientnet-pytorch\n",
            "  Downloading efficientnet_pytorch-0.7.1.tar.gz (21 kB)\n",
            "Requirement already satisfied: torch in /usr/local/lib/python3.7/dist-packages (from efficientnet-pytorch) (1.10.0+cu111)\n",
            "Requirement already satisfied: typing-extensions in /usr/local/lib/python3.7/dist-packages (from torch->efficientnet-pytorch) (3.10.0.2)\n",
            "Building wheels for collected packages: efficientnet-pytorch\n",
            "  Building wheel for efficientnet-pytorch (setup.py) ... \u001b[?25l\u001b[?25hdone\n",
            "  Created wheel for efficientnet-pytorch: filename=efficientnet_pytorch-0.7.1-py3-none-any.whl size=16446 sha256=38fc3adbc788160ef1817626a7dba4c05dab26a779a7723b529ea9ae3cf11493\n",
            "  Stored in directory: /root/.cache/pip/wheels/0e/cc/b2/49e74588263573ff778da58cc99b9c6349b496636a7e165be6\n",
            "Successfully built efficientnet-pytorch\n",
            "Installing collected packages: efficientnet-pytorch\n",
            "Successfully installed efficientnet-pytorch-0.7.1\n"
          ]
        }
      ]
    },
    {
      "cell_type": "code",
      "source": [
        "import sys\n",
        "sys.path.append('/')\n",
        "import cv2\n",
        "from efficientnet_pytorch import EfficientNet\n",
        "from grad_cam import GradCam,GuidedBackpropReLUModel,show_cams,show_gbs,preprocess_image"
      ],
      "metadata": {
        "id": "6qDqekHolzz6"
      },
      "execution_count": 21,
      "outputs": []
    },
    {
      "cell_type": "code",
      "source": [
        "model = models.vgg19(pretrained=True)\n",
        "grad_cam = GradCam(model=model, blob_name = 'features', target_layer_names=['4','20','36'], use_cuda=False)\n",
        "img = cv2.imread('./assets/dog.jpg', 1)\n",
        "img = np.float32(cv2.resize(img, (224, 224))) / 255\n",
        "inputs = preprocess_image(img)\n",
        "# If None, returns the map for the highest scoring category.\n",
        "# Otherwise, targets the requested index.\n",
        "target_index = None\n",
        "mask_dic = grad_cam(inputs, target_index)\n",
        "show_cams(img, mask_dic)\n",
        "gb_model = GuidedBackpropReLUModel(model=model, activation_layer_name = 'ReLU', use_cuda=False)\n",
        "show_gbs(inputs, gb_model, target_index, mask_dic)"
      ],
      "metadata": {
        "id": "d2i96f4El3LY",
        "colab": {
          "base_uri": "https://localhost:8080/",
          "height": 67,
          "referenced_widgets": [
            "0bae927ba6ad4c10b74af3ee76d61d80",
            "0134582251014ec4ac7e14300e022007",
            "60f992107f344b2fb6e56749f1c42189",
            "3d6b8da4703241eeaff3583b37f2a912",
            "9a78ff69a8394228a989f113ca92fc59",
            "87ac5d078d954357b689f283ab72638f",
            "84aaad8a90234183add4bdec82a6076a",
            "d4232bc40a5c470bba9b902248c1c0c3",
            "d6b4d134cad540ae9a95f81bb575f220",
            "301a676230334c16af307023dde811ff",
            "4ea8038ad5544c1a8e2bafcd01add648"
          ]
        },
        "outputId": "58e13eb9-88bc-471e-d29c-393e288fb41a"
      },
      "execution_count": 22,
      "outputs": [
        {
          "output_type": "stream",
          "name": "stderr",
          "text": [
            "Downloading: \"https://download.pytorch.org/models/vgg19-dcbb9e9d.pth\" to /root/.cache/torch/hub/checkpoints/vgg19-dcbb9e9d.pth\n"
          ]
        },
        {
          "output_type": "display_data",
          "data": {
            "application/vnd.jupyter.widget-view+json": {
              "model_id": "0bae927ba6ad4c10b74af3ee76d61d80",
              "version_minor": 0,
              "version_major": 2
            },
            "text/plain": [
              "  0%|          | 0.00/548M [00:00<?, ?B/s]"
            ]
          },
          "metadata": {}
        }
      ]
    },
    {
      "cell_type": "markdown",
      "source": [
        "**Q.5** Replace the ReLUs in the code with sigmoid units, and compare the training\n",
        "and testing accuracies of both the models. Discuss the results**"
      ],
      "metadata": {
        "id": "aBsT4e95oHJS"
      }
    },
    {
      "cell_type": "code",
      "source": [
        "import tensorflow as tf\n",
        "import pandas as pd"
      ],
      "metadata": {
        "id": "7Y_wQLWrl7Sp"
      },
      "execution_count": 24,
      "outputs": []
    },
    {
      "cell_type": "code",
      "source": [
        "fashion_mnist = tf.keras.datasets.fashion_mnist\n",
        "\n",
        "(train_images, train_labels), (test_images, test_labels) = fashion_mnist.load_data()"
      ],
      "metadata": {
        "id": "E1njiH66oNsy",
        "colab": {
          "base_uri": "https://localhost:8080/",
          "height": 0
        },
        "outputId": "267129fd-61f3-40f8-c04a-b024c87fb45d"
      },
      "execution_count": 25,
      "outputs": [
        {
          "output_type": "stream",
          "name": "stdout",
          "text": [
            "Downloading data from https://storage.googleapis.com/tensorflow/tf-keras-datasets/train-labels-idx1-ubyte.gz\n",
            "32768/29515 [=================================] - 0s 0us/step\n",
            "40960/29515 [=========================================] - 0s 0us/step\n",
            "Downloading data from https://storage.googleapis.com/tensorflow/tf-keras-datasets/train-images-idx3-ubyte.gz\n",
            "26427392/26421880 [==============================] - 0s 0us/step\n",
            "26435584/26421880 [==============================] - 0s 0us/step\n",
            "Downloading data from https://storage.googleapis.com/tensorflow/tf-keras-datasets/t10k-labels-idx1-ubyte.gz\n",
            "16384/5148 [===============================================================================================] - 0s 0us/step\n",
            "Downloading data from https://storage.googleapis.com/tensorflow/tf-keras-datasets/t10k-images-idx3-ubyte.gz\n",
            "4423680/4422102 [==============================] - 0s 0us/step\n",
            "4431872/4422102 [==============================] - 0s 0us/step\n"
          ]
        }
      ]
    },
    {
      "cell_type": "code",
      "source": [
        "train_images.shape"
      ],
      "metadata": {
        "id": "8Yc2A7PzoT6o",
        "colab": {
          "base_uri": "https://localhost:8080/",
          "height": 0
        },
        "outputId": "881c750f-0726-48a9-a6ab-84a944053bf8"
      },
      "execution_count": 26,
      "outputs": [
        {
          "output_type": "execute_result",
          "data": {
            "text/plain": [
              "(60000, 28, 28)"
            ]
          },
          "metadata": {},
          "execution_count": 26
        }
      ]
    },
    {
      "cell_type": "code",
      "source": [
        "train_images = train_images / 255.0\n",
        "\n",
        "test_images = test_images / 255.0    "
      ],
      "metadata": {
        "id": "WuOKHsbKoW5c"
      },
      "execution_count": 28,
      "outputs": []
    },
    {
      "cell_type": "code",
      "source": [
        "early_cb = tf.keras.callbacks.EarlyStopping(monitor = \"loss\" ,patience = 3, restore_best_weights = True)"
      ],
      "metadata": {
        "id": "4E9mv2XEYdZ_"
      },
      "execution_count": 32,
      "outputs": []
    },
    {
      "cell_type": "code",
      "source": [
        "epoch = 100\n",
        "optimizer = tf.optimizers.SGD(0.01)\n",
        "LOSS = tf.losses.sparse_categorical_crossentropy"
      ],
      "metadata": {
        "id": "1U3_gANTYkOj"
      },
      "execution_count": 33,
      "outputs": []
    },
    {
      "cell_type": "code",
      "source": [
        "from gc import callbacks\n",
        "def Model(activation):\n",
        "  LAYERS = [\n",
        "            tf.keras.layers.Conv2D(32, (5,5), padding='same', activation=activation, input_shape=(28,28,1)),\n",
        "            tf.keras.layers.MaxPool2D(),\n",
        "            tf.keras.layers.Dropout(0.25),\n",
        "            tf.keras.layers.Conv2D(64, (3,3), padding='same', activation=activation),\n",
        "            tf.keras.layers.MaxPool2D(strides=(2,2)),\n",
        "            tf.keras.layers.Dropout(0.25),\n",
        "            tf.keras.layers.Flatten(),\n",
        "            tf.keras.layers.Dense(128, activation=activation),\n",
        "            tf.keras.layers.Dropout(0.5),\n",
        "            tf.keras.layers.Dense(num_classes, activation='softmax')\n",
        "            ]\n",
        "  model = tf.keras.models.Sequential(LAYERS)\n",
        "\n",
        "  model.compile(optimizer = optimizer,\n",
        "              loss = LOSS,\n",
        "              metrics=['accuracy'])\n",
        "  \n",
        "  history = model.fit(train_images, train_labels, epochs = epoch, callbacks = [early_cb])\n",
        "\n",
        "  test_loss, test_acc = model.evaluate(test_images,  test_labels, verbose=2)\n",
        "  print(f'\\nTest accuracy with {activation}:', test_acc)\n",
        "\n",
        "  pd.DataFrame(history.history).plot(figsize=(10,7))\n",
        "  plt.grid('True')\n",
        "  plt.title(f\"Accuracy and loss with {activation}\") "
      ],
      "metadata": {
        "id": "CnQC0M-5YzM0"
      },
      "execution_count": 34,
      "outputs": []
    },
    {
      "cell_type": "code",
      "source": [
        "Model(\"sigmoid\")"
      ],
      "metadata": {
        "colab": {
          "base_uri": "https://localhost:8080/",
          "height": 3967
        },
        "id": "ndWhElHkrPhO",
        "outputId": "43ca8f07-47d3-4ff2-a50b-532d217da6ee"
      },
      "execution_count": 36,
      "outputs": [
        {
          "output_type": "stream",
          "name": "stdout",
          "text": [
            "Epoch 1/100\n",
            "1875/1875 [==============================] - 25s 6ms/step - loss: 2.3201 - accuracy: 0.1007\n",
            "Epoch 2/100\n",
            "1875/1875 [==============================] - 12s 6ms/step - loss: 2.3035 - accuracy: 0.1015\n",
            "Epoch 3/100\n",
            "1875/1875 [==============================] - 12s 6ms/step - loss: 2.3032 - accuracy: 0.1029\n",
            "Epoch 4/100\n",
            "1875/1875 [==============================] - 12s 6ms/step - loss: 2.3030 - accuracy: 0.1012\n",
            "Epoch 5/100\n",
            "1875/1875 [==============================] - 12s 6ms/step - loss: 2.3028 - accuracy: 0.1017\n",
            "Epoch 6/100\n",
            "1875/1875 [==============================] - 12s 6ms/step - loss: 2.3024 - accuracy: 0.1023\n",
            "Epoch 7/100\n",
            "1875/1875 [==============================] - 12s 6ms/step - loss: 2.3025 - accuracy: 0.1025\n",
            "Epoch 8/100\n",
            "1875/1875 [==============================] - 12s 7ms/step - loss: 2.3024 - accuracy: 0.1020\n",
            "Epoch 9/100\n",
            "1875/1875 [==============================] - 13s 7ms/step - loss: 2.3022 - accuracy: 0.1032\n",
            "Epoch 10/100\n",
            "1875/1875 [==============================] - 12s 6ms/step - loss: 2.3017 - accuracy: 0.1049\n",
            "Epoch 11/100\n",
            "1875/1875 [==============================] - 12s 6ms/step - loss: 2.3012 - accuracy: 0.1082\n",
            "Epoch 12/100\n",
            "1875/1875 [==============================] - 12s 6ms/step - loss: 2.2989 - accuracy: 0.1133\n",
            "Epoch 13/100\n",
            "1875/1875 [==============================] - 12s 6ms/step - loss: 2.2871 - accuracy: 0.1257\n",
            "Epoch 14/100\n",
            "1875/1875 [==============================] - 12s 6ms/step - loss: 2.0699 - accuracy: 0.2288\n",
            "Epoch 15/100\n",
            "1875/1875 [==============================] - 12s 6ms/step - loss: 1.3968 - accuracy: 0.4678\n",
            "Epoch 16/100\n",
            "1875/1875 [==============================] - 12s 6ms/step - loss: 1.0935 - accuracy: 0.5871\n",
            "Epoch 17/100\n",
            "1875/1875 [==============================] - 12s 6ms/step - loss: 0.9548 - accuracy: 0.6417\n",
            "Epoch 18/100\n",
            "1875/1875 [==============================] - 12s 6ms/step - loss: 0.8805 - accuracy: 0.6714\n",
            "Epoch 19/100\n",
            "1875/1875 [==============================] - 12s 6ms/step - loss: 0.8338 - accuracy: 0.6896\n",
            "Epoch 20/100\n",
            "1875/1875 [==============================] - 12s 6ms/step - loss: 0.8011 - accuracy: 0.7010\n",
            "Epoch 21/100\n",
            "1875/1875 [==============================] - 12s 6ms/step - loss: 0.7791 - accuracy: 0.7100\n",
            "Epoch 22/100\n",
            "1875/1875 [==============================] - 12s 6ms/step - loss: 0.7605 - accuracy: 0.7169\n",
            "Epoch 23/100\n",
            "1875/1875 [==============================] - 12s 6ms/step - loss: 0.7448 - accuracy: 0.7225\n",
            "Epoch 24/100\n",
            "1875/1875 [==============================] - 12s 6ms/step - loss: 0.7310 - accuracy: 0.7264\n",
            "Epoch 25/100\n",
            "1875/1875 [==============================] - 13s 7ms/step - loss: 0.7156 - accuracy: 0.7322\n",
            "Epoch 26/100\n",
            "1875/1875 [==============================] - 12s 6ms/step - loss: 0.7013 - accuracy: 0.7377\n",
            "Epoch 27/100\n",
            "1875/1875 [==============================] - 12s 6ms/step - loss: 0.6934 - accuracy: 0.7405\n",
            "Epoch 28/100\n",
            "1875/1875 [==============================] - 12s 6ms/step - loss: 0.6835 - accuracy: 0.7437\n",
            "Epoch 29/100\n",
            "1875/1875 [==============================] - 12s 6ms/step - loss: 0.6754 - accuracy: 0.7473\n",
            "Epoch 30/100\n",
            "1875/1875 [==============================] - 12s 6ms/step - loss: 0.6639 - accuracy: 0.7534\n",
            "Epoch 31/100\n",
            "1875/1875 [==============================] - 12s 6ms/step - loss: 0.6590 - accuracy: 0.7534\n",
            "Epoch 32/100\n",
            "1875/1875 [==============================] - 12s 6ms/step - loss: 0.6521 - accuracy: 0.7567\n",
            "Epoch 33/100\n",
            "1875/1875 [==============================] - 12s 6ms/step - loss: 0.6440 - accuracy: 0.7583\n",
            "Epoch 34/100\n",
            "1875/1875 [==============================] - 12s 6ms/step - loss: 0.6361 - accuracy: 0.7634\n",
            "Epoch 35/100\n",
            "1875/1875 [==============================] - 12s 6ms/step - loss: 0.6308 - accuracy: 0.7655\n",
            "Epoch 36/100\n",
            "1875/1875 [==============================] - 12s 6ms/step - loss: 0.6254 - accuracy: 0.7664\n",
            "Epoch 37/100\n",
            "1875/1875 [==============================] - 12s 6ms/step - loss: 0.6174 - accuracy: 0.7685\n",
            "Epoch 38/100\n",
            "1875/1875 [==============================] - 12s 6ms/step - loss: 0.6101 - accuracy: 0.7699\n",
            "Epoch 39/100\n",
            "1875/1875 [==============================] - 12s 6ms/step - loss: 0.6085 - accuracy: 0.7729\n",
            "Epoch 40/100\n",
            "1875/1875 [==============================] - 12s 6ms/step - loss: 0.6000 - accuracy: 0.7756\n",
            "Epoch 41/100\n",
            "1875/1875 [==============================] - 12s 6ms/step - loss: 0.5947 - accuracy: 0.7769\n",
            "Epoch 42/100\n",
            "1875/1875 [==============================] - 12s 6ms/step - loss: 0.5892 - accuracy: 0.7794\n",
            "Epoch 43/100\n",
            "1875/1875 [==============================] - 12s 6ms/step - loss: 0.5837 - accuracy: 0.7821\n",
            "Epoch 44/100\n",
            "1875/1875 [==============================] - 12s 6ms/step - loss: 0.5810 - accuracy: 0.7812\n",
            "Epoch 45/100\n",
            "1875/1875 [==============================] - 12s 6ms/step - loss: 0.5754 - accuracy: 0.7847\n",
            "Epoch 46/100\n",
            "1875/1875 [==============================] - 12s 6ms/step - loss: 0.5677 - accuracy: 0.7880\n",
            "Epoch 47/100\n",
            "1875/1875 [==============================] - 12s 6ms/step - loss: 0.5656 - accuracy: 0.7882\n",
            "Epoch 48/100\n",
            "1875/1875 [==============================] - 12s 6ms/step - loss: 0.5595 - accuracy: 0.7911\n",
            "Epoch 49/100\n",
            "1875/1875 [==============================] - 12s 7ms/step - loss: 0.5583 - accuracy: 0.7910\n",
            "Epoch 50/100\n",
            "1875/1875 [==============================] - 12s 6ms/step - loss: 0.5561 - accuracy: 0.7931\n",
            "Epoch 51/100\n",
            "1875/1875 [==============================] - 12s 6ms/step - loss: 0.5498 - accuracy: 0.7933\n",
            "Epoch 52/100\n",
            "1875/1875 [==============================] - 12s 6ms/step - loss: 0.5475 - accuracy: 0.7962\n",
            "Epoch 53/100\n",
            "1875/1875 [==============================] - 12s 6ms/step - loss: 0.5444 - accuracy: 0.7975\n",
            "Epoch 54/100\n",
            "1875/1875 [==============================] - 12s 6ms/step - loss: 0.5397 - accuracy: 0.7976\n",
            "Epoch 55/100\n",
            "1875/1875 [==============================] - 12s 6ms/step - loss: 0.5366 - accuracy: 0.7998\n",
            "Epoch 56/100\n",
            "1875/1875 [==============================] - 12s 7ms/step - loss: 0.5342 - accuracy: 0.7997\n",
            "Epoch 57/100\n",
            "1875/1875 [==============================] - 12s 6ms/step - loss: 0.5315 - accuracy: 0.8025\n",
            "Epoch 58/100\n",
            "1875/1875 [==============================] - 12s 6ms/step - loss: 0.5276 - accuracy: 0.8035\n",
            "Epoch 59/100\n",
            "1875/1875 [==============================] - 12s 6ms/step - loss: 0.5245 - accuracy: 0.8040\n",
            "Epoch 60/100\n",
            "1875/1875 [==============================] - 12s 6ms/step - loss: 0.5207 - accuracy: 0.8055\n",
            "Epoch 61/100\n",
            "1875/1875 [==============================] - 12s 7ms/step - loss: 0.5219 - accuracy: 0.8047\n",
            "Epoch 62/100\n",
            "1875/1875 [==============================] - 12s 7ms/step - loss: 0.5168 - accuracy: 0.8067\n",
            "Epoch 63/100\n",
            "1875/1875 [==============================] - 12s 6ms/step - loss: 0.5123 - accuracy: 0.8091\n",
            "Epoch 64/100\n",
            "1875/1875 [==============================] - 12s 6ms/step - loss: 0.5096 - accuracy: 0.8094\n",
            "Epoch 65/100\n",
            "1875/1875 [==============================] - 12s 6ms/step - loss: 0.5108 - accuracy: 0.8100\n",
            "Epoch 66/100\n",
            "1875/1875 [==============================] - 12s 6ms/step - loss: 0.5066 - accuracy: 0.8111\n",
            "Epoch 67/100\n",
            "1875/1875 [==============================] - 12s 6ms/step - loss: 0.5023 - accuracy: 0.8134\n",
            "Epoch 68/100\n",
            "1875/1875 [==============================] - 12s 6ms/step - loss: 0.5018 - accuracy: 0.8124\n",
            "Epoch 69/100\n",
            "1875/1875 [==============================] - 12s 7ms/step - loss: 0.4998 - accuracy: 0.8143\n",
            "Epoch 70/100\n",
            "1875/1875 [==============================] - 12s 7ms/step - loss: 0.4944 - accuracy: 0.8150\n",
            "Epoch 71/100\n",
            "1875/1875 [==============================] - 12s 6ms/step - loss: 0.4927 - accuracy: 0.8170\n",
            "Epoch 72/100\n",
            "1875/1875 [==============================] - 12s 6ms/step - loss: 0.4898 - accuracy: 0.8177\n",
            "Epoch 73/100\n",
            "1875/1875 [==============================] - 12s 6ms/step - loss: 0.4862 - accuracy: 0.8190\n",
            "Epoch 74/100\n",
            "1875/1875 [==============================] - 12s 6ms/step - loss: 0.4850 - accuracy: 0.8190\n",
            "Epoch 75/100\n",
            "1875/1875 [==============================] - 12s 6ms/step - loss: 0.4845 - accuracy: 0.8192\n",
            "Epoch 76/100\n",
            "1875/1875 [==============================] - 12s 6ms/step - loss: 0.4839 - accuracy: 0.8199\n",
            "Epoch 77/100\n",
            "1875/1875 [==============================] - 12s 6ms/step - loss: 0.4827 - accuracy: 0.8202\n",
            "Epoch 78/100\n",
            "1875/1875 [==============================] - 12s 6ms/step - loss: 0.4814 - accuracy: 0.8213\n",
            "Epoch 79/100\n",
            "1875/1875 [==============================] - 12s 6ms/step - loss: 0.4795 - accuracy: 0.8205\n",
            "Epoch 80/100\n",
            "1875/1875 [==============================] - 12s 6ms/step - loss: 0.4769 - accuracy: 0.8223\n",
            "Epoch 81/100\n",
            "1875/1875 [==============================] - 12s 6ms/step - loss: 0.4725 - accuracy: 0.8242\n",
            "Epoch 82/100\n",
            "1875/1875 [==============================] - 12s 7ms/step - loss: 0.4714 - accuracy: 0.8239\n",
            "Epoch 83/100\n",
            "1875/1875 [==============================] - 12s 6ms/step - loss: 0.4708 - accuracy: 0.8254\n",
            "Epoch 84/100\n",
            "1875/1875 [==============================] - 12s 6ms/step - loss: 0.4689 - accuracy: 0.8260\n",
            "Epoch 85/100\n",
            "1875/1875 [==============================] - 12s 6ms/step - loss: 0.4659 - accuracy: 0.8269\n",
            "Epoch 86/100\n",
            "1875/1875 [==============================] - 12s 6ms/step - loss: 0.4633 - accuracy: 0.8276\n",
            "Epoch 87/100\n",
            "1875/1875 [==============================] - 12s 6ms/step - loss: 0.4663 - accuracy: 0.8270\n",
            "Epoch 88/100\n",
            "1875/1875 [==============================] - 12s 6ms/step - loss: 0.4593 - accuracy: 0.8292\n",
            "Epoch 89/100\n",
            "1875/1875 [==============================] - 12s 6ms/step - loss: 0.4582 - accuracy: 0.8298\n",
            "Epoch 90/100\n",
            "1875/1875 [==============================] - 12s 6ms/step - loss: 0.4612 - accuracy: 0.8290\n",
            "Epoch 91/100\n",
            "1875/1875 [==============================] - 12s 6ms/step - loss: 0.4558 - accuracy: 0.8309\n",
            "Epoch 92/100\n",
            "1875/1875 [==============================] - 12s 6ms/step - loss: 0.4582 - accuracy: 0.8295\n",
            "Epoch 93/100\n",
            "1875/1875 [==============================] - 12s 6ms/step - loss: 0.4560 - accuracy: 0.8299\n",
            "Epoch 94/100\n",
            "1875/1875 [==============================] - 12s 6ms/step - loss: 0.4555 - accuracy: 0.8319\n",
            "Epoch 95/100\n",
            "1875/1875 [==============================] - 12s 6ms/step - loss: 0.4529 - accuracy: 0.8322\n",
            "Epoch 96/100\n",
            "1875/1875 [==============================] - 12s 6ms/step - loss: 0.4499 - accuracy: 0.8344\n",
            "Epoch 97/100\n",
            "1875/1875 [==============================] - 12s 6ms/step - loss: 0.4514 - accuracy: 0.8322\n",
            "Epoch 98/100\n",
            "1875/1875 [==============================] - 12s 6ms/step - loss: 0.4489 - accuracy: 0.8316\n",
            "Epoch 99/100\n",
            "1875/1875 [==============================] - 12s 6ms/step - loss: 0.4464 - accuracy: 0.8353\n",
            "Epoch 100/100\n",
            "1875/1875 [==============================] - 12s 6ms/step - loss: 0.4482 - accuracy: 0.8335\n",
            "313/313 - 1s - loss: 0.4048 - accuracy: 0.8487 - 1s/epoch - 4ms/step\n",
            "\n",
            "Test accuracy with sigmoid: 0.8486999869346619\n"
          ]
        },
        {
          "output_type": "display_data",
          "data": {
            "image/png": "[encoded data removed]",
            "text/plain": [
              "<Figure size 720x504 with 1 Axes>"
            ]
          },
          "metadata": {
            "needs_background": "light"
          }
        }
      ]
    },
    {
      "cell_type": "code",
      "source": [
        "Model(\"relu\")"
      ],
      "metadata": {
        "colab": {
          "base_uri": "https://localhost:8080/",
          "height": 3967
        },
        "id": "yWQt_4U9snki",
        "outputId": "4bef5d49-787d-48e2-b872-bee3b01c6758"
      },
      "execution_count": 37,
      "outputs": [
        {
          "output_type": "stream",
          "name": "stdout",
          "text": [
            "Epoch 1/100\n",
            "1875/1875 [==============================] - 12s 6ms/step - loss: 1.0040 - accuracy: 0.6248\n",
            "Epoch 2/100\n",
            "1875/1875 [==============================] - 12s 6ms/step - loss: 0.6479 - accuracy: 0.7548\n",
            "Epoch 3/100\n",
            "1875/1875 [==============================] - 12s 6ms/step - loss: 0.5766 - accuracy: 0.7851\n",
            "Epoch 4/100\n",
            "1875/1875 [==============================] - 12s 6ms/step - loss: 0.5351 - accuracy: 0.8024\n",
            "Epoch 5/100\n",
            "1875/1875 [==============================] - 12s 6ms/step - loss: 0.5056 - accuracy: 0.8141\n",
            "Epoch 6/100\n",
            "1875/1875 [==============================] - 12s 6ms/step - loss: 0.4789 - accuracy: 0.8245\n",
            "Epoch 7/100\n",
            "1875/1875 [==============================] - 12s 6ms/step - loss: 0.4607 - accuracy: 0.8312\n",
            "Epoch 8/100\n",
            "1875/1875 [==============================] - 12s 6ms/step - loss: 0.4461 - accuracy: 0.8382\n",
            "Epoch 9/100\n",
            "1875/1875 [==============================] - 12s 6ms/step - loss: 0.4298 - accuracy: 0.8444\n",
            "Epoch 10/100\n",
            "1875/1875 [==============================] - 12s 6ms/step - loss: 0.4197 - accuracy: 0.8475\n",
            "Epoch 11/100\n",
            "1875/1875 [==============================] - 12s 6ms/step - loss: 0.4109 - accuracy: 0.8509\n",
            "Epoch 12/100\n",
            "1875/1875 [==============================] - 12s 6ms/step - loss: 0.3969 - accuracy: 0.8557\n",
            "Epoch 13/100\n",
            "1875/1875 [==============================] - 12s 6ms/step - loss: 0.3941 - accuracy: 0.8577\n",
            "Epoch 14/100\n",
            "1875/1875 [==============================] - 12s 6ms/step - loss: 0.3824 - accuracy: 0.8631\n",
            "Epoch 15/100\n",
            "1875/1875 [==============================] - 12s 6ms/step - loss: 0.3732 - accuracy: 0.8651\n",
            "Epoch 16/100\n",
            "1875/1875 [==============================] - 12s 6ms/step - loss: 0.3692 - accuracy: 0.8667\n",
            "Epoch 17/100\n",
            "1875/1875 [==============================] - 12s 6ms/step - loss: 0.3601 - accuracy: 0.8701\n",
            "Epoch 18/100\n",
            "1875/1875 [==============================] - 12s 6ms/step - loss: 0.3524 - accuracy: 0.8718\n",
            "Epoch 19/100\n",
            "1875/1875 [==============================] - 12s 6ms/step - loss: 0.3466 - accuracy: 0.8721\n",
            "Epoch 20/100\n",
            "1875/1875 [==============================] - 12s 6ms/step - loss: 0.3442 - accuracy: 0.8754\n",
            "Epoch 21/100\n",
            "1875/1875 [==============================] - 12s 6ms/step - loss: 0.3376 - accuracy: 0.8777\n",
            "Epoch 22/100\n",
            "1875/1875 [==============================] - 12s 6ms/step - loss: 0.3356 - accuracy: 0.8774\n",
            "Epoch 23/100\n",
            "1875/1875 [==============================] - 12s 6ms/step - loss: 0.3269 - accuracy: 0.8815\n",
            "Epoch 24/100\n",
            "1875/1875 [==============================] - 12s 6ms/step - loss: 0.3258 - accuracy: 0.8808\n",
            "Epoch 25/100\n",
            "1875/1875 [==============================] - 12s 6ms/step - loss: 0.3201 - accuracy: 0.8835\n",
            "Epoch 26/100\n",
            "1875/1875 [==============================] - 12s 6ms/step - loss: 0.3151 - accuracy: 0.8857\n",
            "Epoch 27/100\n",
            "1875/1875 [==============================] - 12s 6ms/step - loss: 0.3130 - accuracy: 0.8859\n",
            "Epoch 28/100\n",
            "1875/1875 [==============================] - 12s 6ms/step - loss: 0.3094 - accuracy: 0.8885\n",
            "Epoch 29/100\n",
            "1875/1875 [==============================] - 12s 6ms/step - loss: 0.3070 - accuracy: 0.8891\n",
            "Epoch 30/100\n",
            "1875/1875 [==============================] - 12s 6ms/step - loss: 0.3013 - accuracy: 0.8895\n",
            "Epoch 31/100\n",
            "1875/1875 [==============================] - 12s 6ms/step - loss: 0.2993 - accuracy: 0.8919\n",
            "Epoch 32/100\n",
            "1875/1875 [==============================] - 12s 6ms/step - loss: 0.2966 - accuracy: 0.8921\n",
            "Epoch 33/100\n",
            "1875/1875 [==============================] - 12s 6ms/step - loss: 0.2929 - accuracy: 0.8937\n",
            "Epoch 34/100\n",
            "1875/1875 [==============================] - 12s 6ms/step - loss: 0.2914 - accuracy: 0.8941\n",
            "Epoch 35/100\n",
            "1875/1875 [==============================] - 12s 6ms/step - loss: 0.2902 - accuracy: 0.8949\n",
            "Epoch 36/100\n",
            "1875/1875 [==============================] - 12s 6ms/step - loss: 0.2861 - accuracy: 0.8958\n",
            "Epoch 37/100\n",
            "1875/1875 [==============================] - 12s 6ms/step - loss: 0.2812 - accuracy: 0.8984\n",
            "Epoch 38/100\n",
            "1875/1875 [==============================] - 12s 6ms/step - loss: 0.2808 - accuracy: 0.8966\n",
            "Epoch 39/100\n",
            "1875/1875 [==============================] - 12s 6ms/step - loss: 0.2794 - accuracy: 0.8982\n",
            "Epoch 40/100\n",
            "1875/1875 [==============================] - 12s 6ms/step - loss: 0.2756 - accuracy: 0.8999\n",
            "Epoch 41/100\n",
            "1875/1875 [==============================] - 12s 6ms/step - loss: 0.2718 - accuracy: 0.9005\n",
            "Epoch 42/100\n",
            "1875/1875 [==============================] - 12s 6ms/step - loss: 0.2715 - accuracy: 0.9003\n",
            "Epoch 43/100\n",
            "1875/1875 [==============================] - 12s 6ms/step - loss: 0.2695 - accuracy: 0.9015\n",
            "Epoch 44/100\n",
            "1875/1875 [==============================] - 12s 6ms/step - loss: 0.2661 - accuracy: 0.9033\n",
            "Epoch 45/100\n",
            "1875/1875 [==============================] - 12s 6ms/step - loss: 0.2665 - accuracy: 0.9019\n",
            "Epoch 46/100\n",
            "1875/1875 [==============================] - 12s 6ms/step - loss: 0.2652 - accuracy: 0.9027\n",
            "Epoch 47/100\n",
            "1875/1875 [==============================] - 12s 6ms/step - loss: 0.2591 - accuracy: 0.9058\n",
            "Epoch 48/100\n",
            "1875/1875 [==============================] - 12s 6ms/step - loss: 0.2616 - accuracy: 0.9058\n",
            "Epoch 49/100\n",
            "1875/1875 [==============================] - 12s 6ms/step - loss: 0.2575 - accuracy: 0.9064\n",
            "Epoch 50/100\n",
            "1875/1875 [==============================] - 12s 6ms/step - loss: 0.2561 - accuracy: 0.9050\n",
            "Epoch 51/100\n",
            "1875/1875 [==============================] - 12s 6ms/step - loss: 0.2546 - accuracy: 0.9049\n",
            "Epoch 52/100\n",
            "1875/1875 [==============================] - 12s 6ms/step - loss: 0.2537 - accuracy: 0.9065\n",
            "Epoch 53/100\n",
            "1875/1875 [==============================] - 12s 6ms/step - loss: 0.2531 - accuracy: 0.9079\n",
            "Epoch 54/100\n",
            "1875/1875 [==============================] - 12s 6ms/step - loss: 0.2504 - accuracy: 0.9091\n",
            "Epoch 55/100\n",
            "1875/1875 [==============================] - 12s 6ms/step - loss: 0.2491 - accuracy: 0.9081\n",
            "Epoch 56/100\n",
            "1875/1875 [==============================] - 12s 6ms/step - loss: 0.2456 - accuracy: 0.9094\n",
            "Epoch 57/100\n",
            "1875/1875 [==============================] - 12s 6ms/step - loss: 0.2449 - accuracy: 0.9085\n",
            "Epoch 58/100\n",
            "1875/1875 [==============================] - 12s 6ms/step - loss: 0.2422 - accuracy: 0.9097\n",
            "Epoch 59/100\n",
            "1875/1875 [==============================] - 12s 6ms/step - loss: 0.2414 - accuracy: 0.9112\n",
            "Epoch 60/100\n",
            "1875/1875 [==============================] - 12s 6ms/step - loss: 0.2402 - accuracy: 0.9112\n",
            "Epoch 61/100\n",
            "1875/1875 [==============================] - 12s 6ms/step - loss: 0.2373 - accuracy: 0.9119\n",
            "Epoch 62/100\n",
            "1875/1875 [==============================] - 12s 6ms/step - loss: 0.2359 - accuracy: 0.9126\n",
            "Epoch 63/100\n",
            "1875/1875 [==============================] - 12s 6ms/step - loss: 0.2363 - accuracy: 0.9126\n",
            "Epoch 64/100\n",
            "1875/1875 [==============================] - 12s 6ms/step - loss: 0.2334 - accuracy: 0.9136\n",
            "Epoch 65/100\n",
            "1875/1875 [==============================] - 12s 6ms/step - loss: 0.2345 - accuracy: 0.9126\n",
            "Epoch 66/100\n",
            "1875/1875 [==============================] - 12s 6ms/step - loss: 0.2313 - accuracy: 0.9152\n",
            "Epoch 67/100\n",
            "1875/1875 [==============================] - 12s 6ms/step - loss: 0.2318 - accuracy: 0.9151\n",
            "Epoch 68/100\n",
            "1875/1875 [==============================] - 12s 6ms/step - loss: 0.2269 - accuracy: 0.9156\n",
            "Epoch 69/100\n",
            "1875/1875 [==============================] - 12s 6ms/step - loss: 0.2272 - accuracy: 0.9167\n",
            "Epoch 70/100\n",
            "1875/1875 [==============================] - 12s 6ms/step - loss: 0.2265 - accuracy: 0.9158\n",
            "Epoch 71/100\n",
            "1875/1875 [==============================] - 12s 6ms/step - loss: 0.2248 - accuracy: 0.9172\n",
            "Epoch 72/100\n",
            "1875/1875 [==============================] - 12s 6ms/step - loss: 0.2241 - accuracy: 0.9160\n",
            "Epoch 73/100\n",
            "1875/1875 [==============================] - 12s 6ms/step - loss: 0.2222 - accuracy: 0.9186\n",
            "Epoch 74/100\n",
            "1875/1875 [==============================] - 12s 6ms/step - loss: 0.2191 - accuracy: 0.9186\n",
            "Epoch 75/100\n",
            "1875/1875 [==============================] - 12s 6ms/step - loss: 0.2210 - accuracy: 0.9178\n",
            "Epoch 76/100\n",
            "1875/1875 [==============================] - 12s 6ms/step - loss: 0.2191 - accuracy: 0.9185\n",
            "Epoch 77/100\n",
            "1875/1875 [==============================] - 12s 6ms/step - loss: 0.2176 - accuracy: 0.9197\n",
            "Epoch 78/100\n",
            "1875/1875 [==============================] - 12s 6ms/step - loss: 0.2158 - accuracy: 0.9197\n",
            "Epoch 79/100\n",
            "1875/1875 [==============================] - 12s 6ms/step - loss: 0.2171 - accuracy: 0.9185\n",
            "Epoch 80/100\n",
            "1875/1875 [==============================] - 12s 6ms/step - loss: 0.2154 - accuracy: 0.9202\n",
            "Epoch 81/100\n",
            "1875/1875 [==============================] - 12s 6ms/step - loss: 0.2134 - accuracy: 0.9202\n",
            "Epoch 82/100\n",
            "1875/1875 [==============================] - 12s 6ms/step - loss: 0.2125 - accuracy: 0.9210\n",
            "Epoch 83/100\n",
            "1875/1875 [==============================] - 12s 6ms/step - loss: 0.2110 - accuracy: 0.9208\n",
            "Epoch 84/100\n",
            "1875/1875 [==============================] - 12s 6ms/step - loss: 0.2097 - accuracy: 0.9217\n",
            "Epoch 85/100\n",
            "1875/1875 [==============================] - 12s 6ms/step - loss: 0.2081 - accuracy: 0.9219\n",
            "Epoch 86/100\n",
            "1875/1875 [==============================] - 12s 6ms/step - loss: 0.2071 - accuracy: 0.9224\n",
            "Epoch 87/100\n",
            "1875/1875 [==============================] - 12s 6ms/step - loss: 0.2058 - accuracy: 0.9226\n",
            "Epoch 88/100\n",
            "1875/1875 [==============================] - 12s 6ms/step - loss: 0.2072 - accuracy: 0.9229\n",
            "Epoch 89/100\n",
            "1875/1875 [==============================] - 12s 7ms/step - loss: 0.2025 - accuracy: 0.9240\n",
            "Epoch 90/100\n",
            "1875/1875 [==============================] - 12s 6ms/step - loss: 0.2046 - accuracy: 0.9233\n",
            "Epoch 91/100\n",
            "1875/1875 [==============================] - 12s 6ms/step - loss: 0.2024 - accuracy: 0.9241\n",
            "Epoch 92/100\n",
            "1875/1875 [==============================] - 12s 6ms/step - loss: 0.2030 - accuracy: 0.9237\n",
            "Epoch 93/100\n",
            "1875/1875 [==============================] - 12s 6ms/step - loss: 0.2009 - accuracy: 0.9240\n",
            "Epoch 94/100\n",
            "1875/1875 [==============================] - 12s 6ms/step - loss: 0.1989 - accuracy: 0.9267\n",
            "Epoch 95/100\n",
            "1875/1875 [==============================] - 12s 6ms/step - loss: 0.2004 - accuracy: 0.9254\n",
            "Epoch 96/100\n",
            "1875/1875 [==============================] - 12s 6ms/step - loss: 0.1997 - accuracy: 0.9260\n",
            "Epoch 97/100\n",
            "1875/1875 [==============================] - 12s 6ms/step - loss: 0.1987 - accuracy: 0.9262\n",
            "Epoch 98/100\n",
            "1875/1875 [==============================] - 12s 6ms/step - loss: 0.1960 - accuracy: 0.9269\n",
            "Epoch 99/100\n",
            "1875/1875 [==============================] - 12s 6ms/step - loss: 0.1930 - accuracy: 0.9265\n",
            "Epoch 100/100\n",
            "1875/1875 [==============================] - 12s 6ms/step - loss: 0.1954 - accuracy: 0.9260\n",
            "313/313 - 1s - loss: 0.2093 - accuracy: 0.9256 - 1s/epoch - 4ms/step\n",
            "\n",
            "Test accuracy with relu: 0.925599992275238\n"
          ]
        },
        {
          "output_type": "display_data",
          "data": {
            "image/png": "[encoded data removed]",
            "text/plain": [
              "<Figure size 720x504 with 1 Axes>"
            ]
          },
          "metadata": {
            "needs_background": "light"
          }
        }
      ]
    },
    {
      "cell_type": "markdown",
      "source": [
        "**RELU**\n",
        "Test accuracy: 0.925599992275238\n",
        "\n",
        "**SIGMOID**\n",
        "Test accuracy: 0.8486999869346619\n",
        "\n",
        "We can see that relu gives much better accuracy than sigmoid. It is because relu is more computationally efficient to compute than Sigmoid like functions since relu just needs to pick max(0,x) and not perform expensive exponential operations as in sigmoids. Also the derivative of relu is either 0 or 1 which is much simpler than derivative of sigmoids. That's why relu shows better convergence than sigmoid.\n"
      ],
      "metadata": {
        "id": "4arWNLPMzWlQ"
      }
    },
    {
      "cell_type": "code",
      "source": [
        ""
      ],
      "metadata": {
        "id": "SinPb55z0kzG"
      },
      "execution_count": null,
      "outputs": []
    }
  ]
}